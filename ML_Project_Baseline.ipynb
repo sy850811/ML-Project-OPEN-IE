{
  "nbformat": 4,
  "nbformat_minor": 0,
  "metadata": {
    "colab": {
      "name": "ML_Project_Baseline.ipynb",
      "provenance": [],
      "collapsed_sections": []
    },
    "kernelspec": {
      "name": "python3",
      "display_name": "Python 3"
    },
    "language_info": {
      "name": "python"
    }
  },
  "cells": [
    {
      "cell_type": "markdown",
      "metadata": {
        "id": "p-JTNPM_OPhE"
      },
      "source": [
        "# Title => Triplet Extraction for Knowledge Graph Generation: Rule-Based VS Machine Learning"
      ]
    },
    {
      "cell_type": "markdown",
      "source": [
        "##**Rule Based Basiline Method Accuracy Check on Test Dataset**"
      ],
      "metadata": {
        "id": "aYd3BEybU1Ve"
      }
    },
    {
      "cell_type": "code",
      "execution_count": null,
      "metadata": {
        "id": "TpXefHKCyt8o"
      },
      "outputs": [],
      "source": [
        "import re\n",
        "import pandas as pd\n",
        "import spacy\n",
        "from spacy import displacy\n",
        "nlp = spacy.load('en_core_web_sm')\n",
        "\n",
        "from spacy.matcher import Matcher \n",
        "from spacy.tokens import Span \n",
        "\n",
        "import matplotlib.pyplot as plt\n",
        "from tqdm import tqdm\n",
        "\n",
        "pd.set_option('display.max_colwidth', 200)\n",
        "%matplotlib inline\n"
      ]
    },
    {
      "cell_type": "markdown",
      "metadata": {
        "id": "dhOYeIcTOPhQ"
      },
      "source": [
        "## Dataset Explaination: <br>\n",
        "A knowledge graph, also known as a semantic network, represents a network of real-world entities—i.e. objects, events, situations, or concepts—and illustrates their relationship. <br> \n",
        "This information is usually stored in a graph database and visualised as a graph structure, prompting the term knowledge “graph.” <br> \n",
        "A Knowledge graph is extracted as set of triplets i.e. <(Entity-1) (Relation) (Entity-2)> or <(Subject) (Predicate) (Subject)> and then we can visualize them in a graph using any graph generation library of python or databases like Neo4j. \n",
        "\n",
        "The most crucial task in any Knowledge Graph creation is triplet extraction, which can be done using machine learning or a rule-based approach. \n",
        "\n",
        "We need a dataset to teach our model to extract these triplets;  <br> \n",
        "Our dataset generally consists of 4 columns, namely <br> \n",
        "1. Sentence # - which contains sentence number <br> \n",
        "2. Word – which the words of a sentence, <br> \n",
        "3. POS – has Part of Speech of a particular word, <br>\n",
        "4. Tag – this is the final tag (label) of each sentence word based on BIO tagging scheme. "
      ]
    },
    {
      "cell_type": "markdown",
      "metadata": {
        "id": "hPOb2FQOOPhR"
      },
      "source": [
        "## Dataset Creation: <br>\n",
        "### For Training Dataset: <br>\n",
        "We use the modified version dataset provided in the paper from which we took the refrence and created a dataset for training which is in category of Abstract 1, and some samples with Abstract 2 as desribed in our \"Dataset Description Document\". <br>\n",
        "This dataset is a csv file with 4 columns, namely <br> \n",
        "1. Sentence # - which contains sentence number <br>\n",
        "2. Word – which the words of a sentence, <br>\n",
        "3. POS – has Part of Speech of a particular word, <br>\n",
        "4. Tag – this is the final tag (label) of each sentence word based on BIO tagging scheme. <br>\n",
        "We removed all the long sentences and only selected the sentences with length less than or equal to 20 words. <br>\n",
        "This dataset consists of around 900 sentences. <br>\n",
        "\n",
        "### For Validation Dataset: <br>\n",
        "We have 100 samples curated for this task. We started by handpicking 100 sentences from Wikipedia and thenconverting them to our tagging scheme to pass it to the model.\n",
        "Ex: Christian is paralyzed an accident. <br>\n",
        "Christian is the subject, paralyzed is the predicate and accident is the object. <br>\n"
      ]
    },
    {
      "cell_type": "markdown",
      "metadata": {
        "id": "_wluhMl_OPhS"
      },
      "source": [
        "## Reading the dataset"
      ]
    },
    {
      "cell_type": "code",
      "execution_count": null,
      "metadata": {
        "colab": {
          "base_uri": "https://localhost:8080/",
          "height": 380
        },
        "id": "g4nnhSPyy6Dl",
        "outputId": "0362261f-4af0-4929-f4ab-21d837f06498"
      },
      "outputs": [
        {
          "output_type": "stream",
          "name": "stdout",
          "text": [
            "(440, 3)\n"
          ]
        },
        {
          "output_type": "execute_result",
          "data": {
            "text/plain": [
              "    Sentence #    Word    Tag\n",
              "0  Sentence: 1     the      o\n",
              "1  Sentence: 1  temple  e-1-b\n",
              "2  Sentence: 1      is      o\n",
              "3  Sentence: 1     set    r-b\n",
              "4  Sentence: 1      on    r-i\n",
              "5  Sentence: 1   fire.  e-2-b\n",
              "6  Sentence: 2  Actors  e-1-b\n",
              "7  Sentence: 2    play    r-b\n",
              "8  Sentence: 2    many      o\n",
              "9  Sentence: 2  roles.  e-2-b"
            ],
            "text/html": [
              "\n",
              "  <div id=\"df-f0bb1697-1359-4555-83f9-6c171370c755\">\n",
              "    <div class=\"colab-df-container\">\n",
              "      <div>\n",
              "<style scoped>\n",
              "    .dataframe tbody tr th:only-of-type {\n",
              "        vertical-align: middle;\n",
              "    }\n",
              "\n",
              "    .dataframe tbody tr th {\n",
              "        vertical-align: top;\n",
              "    }\n",
              "\n",
              "    .dataframe thead th {\n",
              "        text-align: right;\n",
              "    }\n",
              "</style>\n",
              "<table border=\"1\" class=\"dataframe\">\n",
              "  <thead>\n",
              "    <tr style=\"text-align: right;\">\n",
              "      <th></th>\n",
              "      <th>Sentence #</th>\n",
              "      <th>Word</th>\n",
              "      <th>Tag</th>\n",
              "    </tr>\n",
              "  </thead>\n",
              "  <tbody>\n",
              "    <tr>\n",
              "      <th>0</th>\n",
              "      <td>Sentence: 1</td>\n",
              "      <td>the</td>\n",
              "      <td>o</td>\n",
              "    </tr>\n",
              "    <tr>\n",
              "      <th>1</th>\n",
              "      <td>Sentence: 1</td>\n",
              "      <td>temple</td>\n",
              "      <td>e-1-b</td>\n",
              "    </tr>\n",
              "    <tr>\n",
              "      <th>2</th>\n",
              "      <td>Sentence: 1</td>\n",
              "      <td>is</td>\n",
              "      <td>o</td>\n",
              "    </tr>\n",
              "    <tr>\n",
              "      <th>3</th>\n",
              "      <td>Sentence: 1</td>\n",
              "      <td>set</td>\n",
              "      <td>r-b</td>\n",
              "    </tr>\n",
              "    <tr>\n",
              "      <th>4</th>\n",
              "      <td>Sentence: 1</td>\n",
              "      <td>on</td>\n",
              "      <td>r-i</td>\n",
              "    </tr>\n",
              "    <tr>\n",
              "      <th>5</th>\n",
              "      <td>Sentence: 1</td>\n",
              "      <td>fire.</td>\n",
              "      <td>e-2-b</td>\n",
              "    </tr>\n",
              "    <tr>\n",
              "      <th>6</th>\n",
              "      <td>Sentence: 2</td>\n",
              "      <td>Actors</td>\n",
              "      <td>e-1-b</td>\n",
              "    </tr>\n",
              "    <tr>\n",
              "      <th>7</th>\n",
              "      <td>Sentence: 2</td>\n",
              "      <td>play</td>\n",
              "      <td>r-b</td>\n",
              "    </tr>\n",
              "    <tr>\n",
              "      <th>8</th>\n",
              "      <td>Sentence: 2</td>\n",
              "      <td>many</td>\n",
              "      <td>o</td>\n",
              "    </tr>\n",
              "    <tr>\n",
              "      <th>9</th>\n",
              "      <td>Sentence: 2</td>\n",
              "      <td>roles.</td>\n",
              "      <td>e-2-b</td>\n",
              "    </tr>\n",
              "  </tbody>\n",
              "</table>\n",
              "</div>\n",
              "      <button class=\"colab-df-convert\" onclick=\"convertToInteractive('df-f0bb1697-1359-4555-83f9-6c171370c755')\"\n",
              "              title=\"Convert this dataframe to an interactive table.\"\n",
              "              style=\"display:none;\">\n",
              "        \n",
              "  <svg xmlns=\"http://www.w3.org/2000/svg\" height=\"24px\"viewBox=\"0 0 24 24\"\n",
              "       width=\"24px\">\n",
              "    <path d=\"M0 0h24v24H0V0z\" fill=\"none\"/>\n",
              "    <path d=\"M18.56 5.44l.94 2.06.94-2.06 2.06-.94-2.06-.94-.94-2.06-.94 2.06-2.06.94zm-11 1L8.5 8.5l.94-2.06 2.06-.94-2.06-.94L8.5 2.5l-.94 2.06-2.06.94zm10 10l.94 2.06.94-2.06 2.06-.94-2.06-.94-.94-2.06-.94 2.06-2.06.94z\"/><path d=\"M17.41 7.96l-1.37-1.37c-.4-.4-.92-.59-1.43-.59-.52 0-1.04.2-1.43.59L10.3 9.45l-7.72 7.72c-.78.78-.78 2.05 0 2.83L4 21.41c.39.39.9.59 1.41.59.51 0 1.02-.2 1.41-.59l7.78-7.78 2.81-2.81c.8-.78.8-2.07 0-2.86zM5.41 20L4 18.59l7.72-7.72 1.47 1.35L5.41 20z\"/>\n",
              "  </svg>\n",
              "      </button>\n",
              "      \n",
              "  <style>\n",
              "    .colab-df-container {\n",
              "      display:flex;\n",
              "      flex-wrap:wrap;\n",
              "      gap: 12px;\n",
              "    }\n",
              "\n",
              "    .colab-df-convert {\n",
              "      background-color: #E8F0FE;\n",
              "      border: none;\n",
              "      border-radius: 50%;\n",
              "      cursor: pointer;\n",
              "      display: none;\n",
              "      fill: #1967D2;\n",
              "      height: 32px;\n",
              "      padding: 0 0 0 0;\n",
              "      width: 32px;\n",
              "    }\n",
              "\n",
              "    .colab-df-convert:hover {\n",
              "      background-color: #E2EBFA;\n",
              "      box-shadow: 0px 1px 2px rgba(60, 64, 67, 0.3), 0px 1px 3px 1px rgba(60, 64, 67, 0.15);\n",
              "      fill: #174EA6;\n",
              "    }\n",
              "\n",
              "    [theme=dark] .colab-df-convert {\n",
              "      background-color: #3B4455;\n",
              "      fill: #D2E3FC;\n",
              "    }\n",
              "\n",
              "    [theme=dark] .colab-df-convert:hover {\n",
              "      background-color: #434B5C;\n",
              "      box-shadow: 0px 1px 3px 1px rgba(0, 0, 0, 0.15);\n",
              "      filter: drop-shadow(0px 1px 2px rgba(0, 0, 0, 0.3));\n",
              "      fill: #FFFFFF;\n",
              "    }\n",
              "  </style>\n",
              "\n",
              "      <script>\n",
              "        const buttonEl =\n",
              "          document.querySelector('#df-f0bb1697-1359-4555-83f9-6c171370c755 button.colab-df-convert');\n",
              "        buttonEl.style.display =\n",
              "          google.colab.kernel.accessAllowed ? 'block' : 'none';\n",
              "\n",
              "        async function convertToInteractive(key) {\n",
              "          const element = document.querySelector('#df-f0bb1697-1359-4555-83f9-6c171370c755');\n",
              "          const dataTable =\n",
              "            await google.colab.kernel.invokeFunction('convertToInteractive',\n",
              "                                                     [key], {});\n",
              "          if (!dataTable) return;\n",
              "\n",
              "          const docLinkHtml = 'Like what you see? Visit the ' +\n",
              "            '<a target=\"_blank\" href=https://colab.research.google.com/notebooks/data_table.ipynb>data table notebook</a>'\n",
              "            + ' to learn more about interactive tables.';\n",
              "          element.innerHTML = '';\n",
              "          dataTable['output_type'] = 'display_data';\n",
              "          await google.colab.output.renderOutput(dataTable, element);\n",
              "          const docLink = document.createElement('div');\n",
              "          docLink.innerHTML = docLinkHtml;\n",
              "          element.appendChild(docLink);\n",
              "        }\n",
              "      </script>\n",
              "    </div>\n",
              "  </div>\n",
              "  "
            ]
          },
          "metadata": {},
          "execution_count": 2
        }
      ],
      "source": [
        "# import wikipedia sentences\n",
        "data = pd.read_csv(\"wiki_sentences_abstract_1.csv\")\n",
        "print(data.shape)\n",
        "data.head(n=10)"
      ]
    },
    {
      "cell_type": "markdown",
      "metadata": {
        "id": "vly_8joMOPhT"
      },
      "source": [
        "## Data Preprocessing"
      ]
    },
    {
      "cell_type": "code",
      "execution_count": null,
      "metadata": {
        "colab": {
          "base_uri": "https://localhost:8080/"
        },
        "id": "WGMBTCf6OPhT",
        "outputId": "e5b789b5-8787-469c-d80c-f3afbd4f532b"
      },
      "outputs": [
        {
          "output_type": "stream",
          "name": "stdout",
          "text": [
            "<class 'pandas.core.frame.DataFrame'>\n",
            "RangeIndex: 440 entries, 0 to 439\n",
            "Data columns (total 3 columns):\n",
            " #   Column      Non-Null Count  Dtype \n",
            "---  ------      --------------  ----- \n",
            " 0   Sentence #  440 non-null    object\n",
            " 1   Word        440 non-null    object\n",
            " 2   Tag         440 non-null    object\n",
            "dtypes: object(3)\n",
            "memory usage: 10.4+ KB\n",
            "None\n"
          ]
        }
      ],
      "source": [
        "#checking the data types of the columns\n",
        "print(data.info())"
      ]
    },
    {
      "cell_type": "code",
      "execution_count": null,
      "metadata": {
        "colab": {
          "base_uri": "https://localhost:8080/"
        },
        "id": "euusgO7NOPhU",
        "outputId": "f3fa424d-9e91-43e1-9985-9bb3cd7ef36e"
      },
      "outputs": [
        {
          "output_type": "stream",
          "name": "stdout",
          "text": [
            "Sentence #    0\n",
            "Word          0\n",
            "Tag           0\n",
            "dtype: int64\n"
          ]
        }
      ],
      "source": [
        "#checking the null values in the dataframe\n",
        "print(data.isnull().sum())"
      ]
    },
    {
      "cell_type": "code",
      "execution_count": null,
      "metadata": {
        "colab": {
          "base_uri": "https://localhost:8080/"
        },
        "id": "syzqT997OPhU",
        "outputId": "726b2634-f3a6-4527-93ff-60f3acb7adce"
      },
      "outputs": [
        {
          "output_type": "stream",
          "name": "stdout",
          "text": [
            "Number of duplicate rows: 0\n",
            "Empty DataFrame\n",
            "Columns: [Sentence #, Word, Tag]\n",
            "Index: []\n"
          ]
        }
      ],
      "source": [
        "#Checking number of duplicate rows in the dataframe\n",
        "print(f'Number of duplicate rows: {data.duplicated().sum()}')\n",
        "#displaying the duplicate rows\n",
        "print(data.loc[data.duplicated()])"
      ]
    },
    {
      "cell_type": "code",
      "execution_count": null,
      "metadata": {
        "id": "1a5YNvHvOPhV"
      },
      "outputs": [],
      "source": [
        "from nltk.stem.porter import PorterStemmer\n",
        "import nltk\n",
        "from nltk.corpus import stopwords\n",
        "import numpy as np\n",
        "\n",
        "from nltk.stem.porter import PorterStemmer\n",
        "import nltk\n",
        "from nltk.corpus import stopwords\n",
        "import numpy as np\n",
        "\n",
        "def dataPreprocess(data):\n",
        "  nltk.download('stopwords')\n",
        "  #cleaning up the dataframe column text\n",
        "  #lowering the text to lower case\n",
        "  data['Word'] = data['Word'].str.lower()\n",
        "  print('Word lowered to lower case')\n",
        "  #removing fullstops, commas, and semi-colons\n",
        "  data['Word'] = data['Word'].str.replace('[^a-zA-Z0-9]','')\n",
        "  #stemming the Word\n",
        "  data['Word'] = data['Word'].apply(lambda x: ' '.join([PorterStemmer().stem(word) for word in x.split()]))\n",
        "  data = data.loc[~((data['Word'].isin(stopwords.words('english'))) & (data['Tag'] == \"o\"))]\n",
        "  print('Word stemmed')\n",
        "  #removing stop words\n",
        "  # data['Word'] = data['Word'].apply(lambda x: ' '.join([word for word in x.split() if word not in (stopwords.words('english'))]))\n",
        "  # print('Stop words removed')\n",
        "  print(f'Data cleaning process completed')\n",
        "  #displaying the first 5 rows of the dataframe\n",
        "  data.head(10)\n",
        "  #replacing all '' with nan in the dataframe column Word\n",
        "  data['Word'] = data['Word'].replace('', np.nan)\n",
        "  print('Replaced all empty strings with nan')\n",
        "  #totoal number of nan values in the dataframe\n",
        "  print(f'Total number of nan values: {data[\"Word\"].isnull().sum()}')\n",
        "  #dropping all the nan values\n",
        "  data = data.dropna()\n",
        "  print('Dropped all nan values')\n",
        "  return data"
      ]
    },
    {
      "cell_type": "code",
      "source": [
        "data = dataPreprocess(data)\n",
        "data.head(10)"
      ],
      "metadata": {
        "colab": {
          "base_uri": "https://localhost:8080/",
          "height": 606
        },
        "id": "5F_rlLFE9qF_",
        "outputId": "e94022d7-e1f4-42e3-bbac-221a84409702"
      },
      "execution_count": null,
      "outputs": [
        {
          "output_type": "stream",
          "name": "stdout",
          "text": [
            "[nltk_data] Downloading package stopwords to /root/nltk_data...\n",
            "[nltk_data]   Unzipping corpora/stopwords.zip.\n",
            "Word lowered to lower case\n",
            "Word stemmed\n",
            "Data cleaning process completed\n",
            "Replaced all empty strings with nan\n",
            "Total number of nan values: 10\n",
            "Dropped all nan values\n"
          ]
        },
        {
          "output_type": "stream",
          "name": "stderr",
          "text": [
            "/usr/local/lib/python3.7/dist-packages/ipykernel_launcher.py:18: FutureWarning: The default value of regex will change from True to False in a future version.\n",
            "/usr/local/lib/python3.7/dist-packages/ipykernel_launcher.py:30: SettingWithCopyWarning: \n",
            "A value is trying to be set on a copy of a slice from a DataFrame.\n",
            "Try using .loc[row_indexer,col_indexer] = value instead\n",
            "\n",
            "See the caveats in the documentation: https://pandas.pydata.org/pandas-docs/stable/user_guide/indexing.html#returning-a-view-versus-a-copy\n"
          ]
        },
        {
          "output_type": "execute_result",
          "data": {
            "text/plain": [
              "     Sentence #   Word    Tag\n",
              "1   Sentence: 1  templ  e-1-b\n",
              "3   Sentence: 1    set    r-b\n",
              "4   Sentence: 1     on    r-i\n",
              "5   Sentence: 1   fire  e-2-b\n",
              "6   Sentence: 2  actor  e-1-b\n",
              "7   Sentence: 2   play    r-b\n",
              "8   Sentence: 2   mani      o\n",
              "9   Sentence: 2   role  e-2-b\n",
              "10  Sentence: 3  peopl  e-1-b\n",
              "12  Sentence: 3   wait    r-b"
            ],
            "text/html": [
              "\n",
              "  <div id=\"df-8678ece6-32a2-4d65-bce7-4ed2f051daa1\">\n",
              "    <div class=\"colab-df-container\">\n",
              "      <div>\n",
              "<style scoped>\n",
              "    .dataframe tbody tr th:only-of-type {\n",
              "        vertical-align: middle;\n",
              "    }\n",
              "\n",
              "    .dataframe tbody tr th {\n",
              "        vertical-align: top;\n",
              "    }\n",
              "\n",
              "    .dataframe thead th {\n",
              "        text-align: right;\n",
              "    }\n",
              "</style>\n",
              "<table border=\"1\" class=\"dataframe\">\n",
              "  <thead>\n",
              "    <tr style=\"text-align: right;\">\n",
              "      <th></th>\n",
              "      <th>Sentence #</th>\n",
              "      <th>Word</th>\n",
              "      <th>Tag</th>\n",
              "    </tr>\n",
              "  </thead>\n",
              "  <tbody>\n",
              "    <tr>\n",
              "      <th>1</th>\n",
              "      <td>Sentence: 1</td>\n",
              "      <td>templ</td>\n",
              "      <td>e-1-b</td>\n",
              "    </tr>\n",
              "    <tr>\n",
              "      <th>3</th>\n",
              "      <td>Sentence: 1</td>\n",
              "      <td>set</td>\n",
              "      <td>r-b</td>\n",
              "    </tr>\n",
              "    <tr>\n",
              "      <th>4</th>\n",
              "      <td>Sentence: 1</td>\n",
              "      <td>on</td>\n",
              "      <td>r-i</td>\n",
              "    </tr>\n",
              "    <tr>\n",
              "      <th>5</th>\n",
              "      <td>Sentence: 1</td>\n",
              "      <td>fire</td>\n",
              "      <td>e-2-b</td>\n",
              "    </tr>\n",
              "    <tr>\n",
              "      <th>6</th>\n",
              "      <td>Sentence: 2</td>\n",
              "      <td>actor</td>\n",
              "      <td>e-1-b</td>\n",
              "    </tr>\n",
              "    <tr>\n",
              "      <th>7</th>\n",
              "      <td>Sentence: 2</td>\n",
              "      <td>play</td>\n",
              "      <td>r-b</td>\n",
              "    </tr>\n",
              "    <tr>\n",
              "      <th>8</th>\n",
              "      <td>Sentence: 2</td>\n",
              "      <td>mani</td>\n",
              "      <td>o</td>\n",
              "    </tr>\n",
              "    <tr>\n",
              "      <th>9</th>\n",
              "      <td>Sentence: 2</td>\n",
              "      <td>role</td>\n",
              "      <td>e-2-b</td>\n",
              "    </tr>\n",
              "    <tr>\n",
              "      <th>10</th>\n",
              "      <td>Sentence: 3</td>\n",
              "      <td>peopl</td>\n",
              "      <td>e-1-b</td>\n",
              "    </tr>\n",
              "    <tr>\n",
              "      <th>12</th>\n",
              "      <td>Sentence: 3</td>\n",
              "      <td>wait</td>\n",
              "      <td>r-b</td>\n",
              "    </tr>\n",
              "  </tbody>\n",
              "</table>\n",
              "</div>\n",
              "      <button class=\"colab-df-convert\" onclick=\"convertToInteractive('df-8678ece6-32a2-4d65-bce7-4ed2f051daa1')\"\n",
              "              title=\"Convert this dataframe to an interactive table.\"\n",
              "              style=\"display:none;\">\n",
              "        \n",
              "  <svg xmlns=\"http://www.w3.org/2000/svg\" height=\"24px\"viewBox=\"0 0 24 24\"\n",
              "       width=\"24px\">\n",
              "    <path d=\"M0 0h24v24H0V0z\" fill=\"none\"/>\n",
              "    <path d=\"M18.56 5.44l.94 2.06.94-2.06 2.06-.94-2.06-.94-.94-2.06-.94 2.06-2.06.94zm-11 1L8.5 8.5l.94-2.06 2.06-.94-2.06-.94L8.5 2.5l-.94 2.06-2.06.94zm10 10l.94 2.06.94-2.06 2.06-.94-2.06-.94-.94-2.06-.94 2.06-2.06.94z\"/><path d=\"M17.41 7.96l-1.37-1.37c-.4-.4-.92-.59-1.43-.59-.52 0-1.04.2-1.43.59L10.3 9.45l-7.72 7.72c-.78.78-.78 2.05 0 2.83L4 21.41c.39.39.9.59 1.41.59.51 0 1.02-.2 1.41-.59l7.78-7.78 2.81-2.81c.8-.78.8-2.07 0-2.86zM5.41 20L4 18.59l7.72-7.72 1.47 1.35L5.41 20z\"/>\n",
              "  </svg>\n",
              "      </button>\n",
              "      \n",
              "  <style>\n",
              "    .colab-df-container {\n",
              "      display:flex;\n",
              "      flex-wrap:wrap;\n",
              "      gap: 12px;\n",
              "    }\n",
              "\n",
              "    .colab-df-convert {\n",
              "      background-color: #E8F0FE;\n",
              "      border: none;\n",
              "      border-radius: 50%;\n",
              "      cursor: pointer;\n",
              "      display: none;\n",
              "      fill: #1967D2;\n",
              "      height: 32px;\n",
              "      padding: 0 0 0 0;\n",
              "      width: 32px;\n",
              "    }\n",
              "\n",
              "    .colab-df-convert:hover {\n",
              "      background-color: #E2EBFA;\n",
              "      box-shadow: 0px 1px 2px rgba(60, 64, 67, 0.3), 0px 1px 3px 1px rgba(60, 64, 67, 0.15);\n",
              "      fill: #174EA6;\n",
              "    }\n",
              "\n",
              "    [theme=dark] .colab-df-convert {\n",
              "      background-color: #3B4455;\n",
              "      fill: #D2E3FC;\n",
              "    }\n",
              "\n",
              "    [theme=dark] .colab-df-convert:hover {\n",
              "      background-color: #434B5C;\n",
              "      box-shadow: 0px 1px 3px 1px rgba(0, 0, 0, 0.15);\n",
              "      filter: drop-shadow(0px 1px 2px rgba(0, 0, 0, 0.3));\n",
              "      fill: #FFFFFF;\n",
              "    }\n",
              "  </style>\n",
              "\n",
              "      <script>\n",
              "        const buttonEl =\n",
              "          document.querySelector('#df-8678ece6-32a2-4d65-bce7-4ed2f051daa1 button.colab-df-convert');\n",
              "        buttonEl.style.display =\n",
              "          google.colab.kernel.accessAllowed ? 'block' : 'none';\n",
              "\n",
              "        async function convertToInteractive(key) {\n",
              "          const element = document.querySelector('#df-8678ece6-32a2-4d65-bce7-4ed2f051daa1');\n",
              "          const dataTable =\n",
              "            await google.colab.kernel.invokeFunction('convertToInteractive',\n",
              "                                                     [key], {});\n",
              "          if (!dataTable) return;\n",
              "\n",
              "          const docLinkHtml = 'Like what you see? Visit the ' +\n",
              "            '<a target=\"_blank\" href=https://colab.research.google.com/notebooks/data_table.ipynb>data table notebook</a>'\n",
              "            + ' to learn more about interactive tables.';\n",
              "          element.innerHTML = '';\n",
              "          dataTable['output_type'] = 'display_data';\n",
              "          await google.colab.output.renderOutput(dataTable, element);\n",
              "          const docLink = document.createElement('div');\n",
              "          docLink.innerHTML = docLinkHtml;\n",
              "          element.appendChild(docLink);\n",
              "        }\n",
              "      </script>\n",
              "    </div>\n",
              "  </div>\n",
              "  "
            ]
          },
          "metadata": {},
          "execution_count": 7
        }
      ]
    },
    {
      "cell_type": "code",
      "execution_count": null,
      "metadata": {
        "colab": {
          "base_uri": "https://localhost:8080/",
          "height": 415
        },
        "id": "dEkpXwQzOPhV",
        "outputId": "ccee7f5b-adb0-4e34-e12e-9fec54433559"
      },
      "outputs": [
        {
          "output_type": "stream",
          "name": "stdout",
          "text": [
            "Replaced all empty strings with nan\n",
            "Total number of nan values: 0\n",
            "Dropped all nan values\n"
          ]
        },
        {
          "output_type": "execute_result",
          "data": {
            "text/plain": [
              "     Sentence #   Word    Tag\n",
              "1   Sentence: 1  templ  e-1-b\n",
              "3   Sentence: 1    set    r-b\n",
              "4   Sentence: 1     on    r-i\n",
              "5   Sentence: 1   fire  e-2-b\n",
              "6   Sentence: 2  actor  e-1-b\n",
              "7   Sentence: 2   play    r-b\n",
              "8   Sentence: 2   mani      o\n",
              "9   Sentence: 2   role  e-2-b\n",
              "10  Sentence: 3  peopl  e-1-b\n",
              "12  Sentence: 3   wait    r-b"
            ],
            "text/html": [
              "\n",
              "  <div id=\"df-03ed3def-cdc5-4493-9542-7a245d3011bf\">\n",
              "    <div class=\"colab-df-container\">\n",
              "      <div>\n",
              "<style scoped>\n",
              "    .dataframe tbody tr th:only-of-type {\n",
              "        vertical-align: middle;\n",
              "    }\n",
              "\n",
              "    .dataframe tbody tr th {\n",
              "        vertical-align: top;\n",
              "    }\n",
              "\n",
              "    .dataframe thead th {\n",
              "        text-align: right;\n",
              "    }\n",
              "</style>\n",
              "<table border=\"1\" class=\"dataframe\">\n",
              "  <thead>\n",
              "    <tr style=\"text-align: right;\">\n",
              "      <th></th>\n",
              "      <th>Sentence #</th>\n",
              "      <th>Word</th>\n",
              "      <th>Tag</th>\n",
              "    </tr>\n",
              "  </thead>\n",
              "  <tbody>\n",
              "    <tr>\n",
              "      <th>1</th>\n",
              "      <td>Sentence: 1</td>\n",
              "      <td>templ</td>\n",
              "      <td>e-1-b</td>\n",
              "    </tr>\n",
              "    <tr>\n",
              "      <th>3</th>\n",
              "      <td>Sentence: 1</td>\n",
              "      <td>set</td>\n",
              "      <td>r-b</td>\n",
              "    </tr>\n",
              "    <tr>\n",
              "      <th>4</th>\n",
              "      <td>Sentence: 1</td>\n",
              "      <td>on</td>\n",
              "      <td>r-i</td>\n",
              "    </tr>\n",
              "    <tr>\n",
              "      <th>5</th>\n",
              "      <td>Sentence: 1</td>\n",
              "      <td>fire</td>\n",
              "      <td>e-2-b</td>\n",
              "    </tr>\n",
              "    <tr>\n",
              "      <th>6</th>\n",
              "      <td>Sentence: 2</td>\n",
              "      <td>actor</td>\n",
              "      <td>e-1-b</td>\n",
              "    </tr>\n",
              "    <tr>\n",
              "      <th>7</th>\n",
              "      <td>Sentence: 2</td>\n",
              "      <td>play</td>\n",
              "      <td>r-b</td>\n",
              "    </tr>\n",
              "    <tr>\n",
              "      <th>8</th>\n",
              "      <td>Sentence: 2</td>\n",
              "      <td>mani</td>\n",
              "      <td>o</td>\n",
              "    </tr>\n",
              "    <tr>\n",
              "      <th>9</th>\n",
              "      <td>Sentence: 2</td>\n",
              "      <td>role</td>\n",
              "      <td>e-2-b</td>\n",
              "    </tr>\n",
              "    <tr>\n",
              "      <th>10</th>\n",
              "      <td>Sentence: 3</td>\n",
              "      <td>peopl</td>\n",
              "      <td>e-1-b</td>\n",
              "    </tr>\n",
              "    <tr>\n",
              "      <th>12</th>\n",
              "      <td>Sentence: 3</td>\n",
              "      <td>wait</td>\n",
              "      <td>r-b</td>\n",
              "    </tr>\n",
              "  </tbody>\n",
              "</table>\n",
              "</div>\n",
              "      <button class=\"colab-df-convert\" onclick=\"convertToInteractive('df-03ed3def-cdc5-4493-9542-7a245d3011bf')\"\n",
              "              title=\"Convert this dataframe to an interactive table.\"\n",
              "              style=\"display:none;\">\n",
              "        \n",
              "  <svg xmlns=\"http://www.w3.org/2000/svg\" height=\"24px\"viewBox=\"0 0 24 24\"\n",
              "       width=\"24px\">\n",
              "    <path d=\"M0 0h24v24H0V0z\" fill=\"none\"/>\n",
              "    <path d=\"M18.56 5.44l.94 2.06.94-2.06 2.06-.94-2.06-.94-.94-2.06-.94 2.06-2.06.94zm-11 1L8.5 8.5l.94-2.06 2.06-.94-2.06-.94L8.5 2.5l-.94 2.06-2.06.94zm10 10l.94 2.06.94-2.06 2.06-.94-2.06-.94-.94-2.06-.94 2.06-2.06.94z\"/><path d=\"M17.41 7.96l-1.37-1.37c-.4-.4-.92-.59-1.43-.59-.52 0-1.04.2-1.43.59L10.3 9.45l-7.72 7.72c-.78.78-.78 2.05 0 2.83L4 21.41c.39.39.9.59 1.41.59.51 0 1.02-.2 1.41-.59l7.78-7.78 2.81-2.81c.8-.78.8-2.07 0-2.86zM5.41 20L4 18.59l7.72-7.72 1.47 1.35L5.41 20z\"/>\n",
              "  </svg>\n",
              "      </button>\n",
              "      \n",
              "  <style>\n",
              "    .colab-df-container {\n",
              "      display:flex;\n",
              "      flex-wrap:wrap;\n",
              "      gap: 12px;\n",
              "    }\n",
              "\n",
              "    .colab-df-convert {\n",
              "      background-color: #E8F0FE;\n",
              "      border: none;\n",
              "      border-radius: 50%;\n",
              "      cursor: pointer;\n",
              "      display: none;\n",
              "      fill: #1967D2;\n",
              "      height: 32px;\n",
              "      padding: 0 0 0 0;\n",
              "      width: 32px;\n",
              "    }\n",
              "\n",
              "    .colab-df-convert:hover {\n",
              "      background-color: #E2EBFA;\n",
              "      box-shadow: 0px 1px 2px rgba(60, 64, 67, 0.3), 0px 1px 3px 1px rgba(60, 64, 67, 0.15);\n",
              "      fill: #174EA6;\n",
              "    }\n",
              "\n",
              "    [theme=dark] .colab-df-convert {\n",
              "      background-color: #3B4455;\n",
              "      fill: #D2E3FC;\n",
              "    }\n",
              "\n",
              "    [theme=dark] .colab-df-convert:hover {\n",
              "      background-color: #434B5C;\n",
              "      box-shadow: 0px 1px 3px 1px rgba(0, 0, 0, 0.15);\n",
              "      filter: drop-shadow(0px 1px 2px rgba(0, 0, 0, 0.3));\n",
              "      fill: #FFFFFF;\n",
              "    }\n",
              "  </style>\n",
              "\n",
              "      <script>\n",
              "        const buttonEl =\n",
              "          document.querySelector('#df-03ed3def-cdc5-4493-9542-7a245d3011bf button.colab-df-convert');\n",
              "        buttonEl.style.display =\n",
              "          google.colab.kernel.accessAllowed ? 'block' : 'none';\n",
              "\n",
              "        async function convertToInteractive(key) {\n",
              "          const element = document.querySelector('#df-03ed3def-cdc5-4493-9542-7a245d3011bf');\n",
              "          const dataTable =\n",
              "            await google.colab.kernel.invokeFunction('convertToInteractive',\n",
              "                                                     [key], {});\n",
              "          if (!dataTable) return;\n",
              "\n",
              "          const docLinkHtml = 'Like what you see? Visit the ' +\n",
              "            '<a target=\"_blank\" href=https://colab.research.google.com/notebooks/data_table.ipynb>data table notebook</a>'\n",
              "            + ' to learn more about interactive tables.';\n",
              "          element.innerHTML = '';\n",
              "          dataTable['output_type'] = 'display_data';\n",
              "          await google.colab.output.renderOutput(dataTable, element);\n",
              "          const docLink = document.createElement('div');\n",
              "          docLink.innerHTML = docLinkHtml;\n",
              "          element.appendChild(docLink);\n",
              "        }\n",
              "      </script>\n",
              "    </div>\n",
              "  </div>\n",
              "  "
            ]
          },
          "metadata": {},
          "execution_count": 8
        }
      ],
      "source": [
        "#replacing all '' with nan in the dataframe column Word\n",
        "data['Word'] = data['Word'].replace('', np.nan)\n",
        "print('Replaced all empty strings with nan')\n",
        "#totoal number of nan values in the dataframe\n",
        "print(f'Total number of nan values: {data[\"Word\"].isnull().sum()}')\n",
        "#dropping all the nan values\n",
        "data = data.dropna()\n",
        "print('Dropped all nan values')\n",
        "#displaying the first 5 rows of the dataframe\n",
        "data.head(10)"
      ]
    },
    {
      "cell_type": "markdown",
      "metadata": {
        "id": "_eGTqKXGOPhW"
      },
      "source": [
        "## Exploratory Data Analysis (EDA)"
      ]
    },
    {
      "cell_type": "code",
      "execution_count": null,
      "metadata": {
        "colab": {
          "base_uri": "https://localhost:8080/",
          "height": 293
        },
        "id": "K1cS7Y2h1AWy",
        "outputId": "61bfba9c-e7bf-45e7-ddd3-52636fda59a5"
      },
      "outputs": [
        {
          "output_type": "stream",
          "name": "stdout",
          "text": [
            "Number of sentences:  99\n",
            "Number of words in the dataset:  267\n",
            "Tags: ['e-1-b', 'r-i', 'e-2-b', 'r-b', 'o']\n",
            "Number of Labels:  5\n",
            "What the dataset looks like:\n"
          ]
        },
        {
          "output_type": "execute_result",
          "data": {
            "text/plain": [
              "    Sentence #   Word    Tag\n",
              "1  Sentence: 1  templ  e-1-b\n",
              "3  Sentence: 1    set    r-b\n",
              "4  Sentence: 1     on    r-i\n",
              "5  Sentence: 1   fire  e-2-b\n",
              "6  Sentence: 2  actor  e-1-b"
            ],
            "text/html": [
              "\n",
              "  <div id=\"df-228cca11-9af9-4cf4-b1df-ed52626ee929\">\n",
              "    <div class=\"colab-df-container\">\n",
              "      <div>\n",
              "<style scoped>\n",
              "    .dataframe tbody tr th:only-of-type {\n",
              "        vertical-align: middle;\n",
              "    }\n",
              "\n",
              "    .dataframe tbody tr th {\n",
              "        vertical-align: top;\n",
              "    }\n",
              "\n",
              "    .dataframe thead th {\n",
              "        text-align: right;\n",
              "    }\n",
              "</style>\n",
              "<table border=\"1\" class=\"dataframe\">\n",
              "  <thead>\n",
              "    <tr style=\"text-align: right;\">\n",
              "      <th></th>\n",
              "      <th>Sentence #</th>\n",
              "      <th>Word</th>\n",
              "      <th>Tag</th>\n",
              "    </tr>\n",
              "  </thead>\n",
              "  <tbody>\n",
              "    <tr>\n",
              "      <th>1</th>\n",
              "      <td>Sentence: 1</td>\n",
              "      <td>templ</td>\n",
              "      <td>e-1-b</td>\n",
              "    </tr>\n",
              "    <tr>\n",
              "      <th>3</th>\n",
              "      <td>Sentence: 1</td>\n",
              "      <td>set</td>\n",
              "      <td>r-b</td>\n",
              "    </tr>\n",
              "    <tr>\n",
              "      <th>4</th>\n",
              "      <td>Sentence: 1</td>\n",
              "      <td>on</td>\n",
              "      <td>r-i</td>\n",
              "    </tr>\n",
              "    <tr>\n",
              "      <th>5</th>\n",
              "      <td>Sentence: 1</td>\n",
              "      <td>fire</td>\n",
              "      <td>e-2-b</td>\n",
              "    </tr>\n",
              "    <tr>\n",
              "      <th>6</th>\n",
              "      <td>Sentence: 2</td>\n",
              "      <td>actor</td>\n",
              "      <td>e-1-b</td>\n",
              "    </tr>\n",
              "  </tbody>\n",
              "</table>\n",
              "</div>\n",
              "      <button class=\"colab-df-convert\" onclick=\"convertToInteractive('df-228cca11-9af9-4cf4-b1df-ed52626ee929')\"\n",
              "              title=\"Convert this dataframe to an interactive table.\"\n",
              "              style=\"display:none;\">\n",
              "        \n",
              "  <svg xmlns=\"http://www.w3.org/2000/svg\" height=\"24px\"viewBox=\"0 0 24 24\"\n",
              "       width=\"24px\">\n",
              "    <path d=\"M0 0h24v24H0V0z\" fill=\"none\"/>\n",
              "    <path d=\"M18.56 5.44l.94 2.06.94-2.06 2.06-.94-2.06-.94-.94-2.06-.94 2.06-2.06.94zm-11 1L8.5 8.5l.94-2.06 2.06-.94-2.06-.94L8.5 2.5l-.94 2.06-2.06.94zm10 10l.94 2.06.94-2.06 2.06-.94-2.06-.94-.94-2.06-.94 2.06-2.06.94z\"/><path d=\"M17.41 7.96l-1.37-1.37c-.4-.4-.92-.59-1.43-.59-.52 0-1.04.2-1.43.59L10.3 9.45l-7.72 7.72c-.78.78-.78 2.05 0 2.83L4 21.41c.39.39.9.59 1.41.59.51 0 1.02-.2 1.41-.59l7.78-7.78 2.81-2.81c.8-.78.8-2.07 0-2.86zM5.41 20L4 18.59l7.72-7.72 1.47 1.35L5.41 20z\"/>\n",
              "  </svg>\n",
              "      </button>\n",
              "      \n",
              "  <style>\n",
              "    .colab-df-container {\n",
              "      display:flex;\n",
              "      flex-wrap:wrap;\n",
              "      gap: 12px;\n",
              "    }\n",
              "\n",
              "    .colab-df-convert {\n",
              "      background-color: #E8F0FE;\n",
              "      border: none;\n",
              "      border-radius: 50%;\n",
              "      cursor: pointer;\n",
              "      display: none;\n",
              "      fill: #1967D2;\n",
              "      height: 32px;\n",
              "      padding: 0 0 0 0;\n",
              "      width: 32px;\n",
              "    }\n",
              "\n",
              "    .colab-df-convert:hover {\n",
              "      background-color: #E2EBFA;\n",
              "      box-shadow: 0px 1px 2px rgba(60, 64, 67, 0.3), 0px 1px 3px 1px rgba(60, 64, 67, 0.15);\n",
              "      fill: #174EA6;\n",
              "    }\n",
              "\n",
              "    [theme=dark] .colab-df-convert {\n",
              "      background-color: #3B4455;\n",
              "      fill: #D2E3FC;\n",
              "    }\n",
              "\n",
              "    [theme=dark] .colab-df-convert:hover {\n",
              "      background-color: #434B5C;\n",
              "      box-shadow: 0px 1px 3px 1px rgba(0, 0, 0, 0.15);\n",
              "      filter: drop-shadow(0px 1px 2px rgba(0, 0, 0, 0.3));\n",
              "      fill: #FFFFFF;\n",
              "    }\n",
              "  </style>\n",
              "\n",
              "      <script>\n",
              "        const buttonEl =\n",
              "          document.querySelector('#df-228cca11-9af9-4cf4-b1df-ed52626ee929 button.colab-df-convert');\n",
              "        buttonEl.style.display =\n",
              "          google.colab.kernel.accessAllowed ? 'block' : 'none';\n",
              "\n",
              "        async function convertToInteractive(key) {\n",
              "          const element = document.querySelector('#df-228cca11-9af9-4cf4-b1df-ed52626ee929');\n",
              "          const dataTable =\n",
              "            await google.colab.kernel.invokeFunction('convertToInteractive',\n",
              "                                                     [key], {});\n",
              "          if (!dataTable) return;\n",
              "\n",
              "          const docLinkHtml = 'Like what you see? Visit the ' +\n",
              "            '<a target=\"_blank\" href=https://colab.research.google.com/notebooks/data_table.ipynb>data table notebook</a>'\n",
              "            + ' to learn more about interactive tables.';\n",
              "          element.innerHTML = '';\n",
              "          dataTable['output_type'] = 'display_data';\n",
              "          await google.colab.output.renderOutput(dataTable, element);\n",
              "          const docLink = document.createElement('div');\n",
              "          docLink.innerHTML = docLinkHtml;\n",
              "          element.appendChild(docLink);\n",
              "        }\n",
              "      </script>\n",
              "    </div>\n",
              "  </div>\n",
              "  "
            ]
          },
          "metadata": {},
          "execution_count": 9
        }
      ],
      "source": [
        "print(\"Number of sentences: \", len(data.groupby(['Sentence #'])))\n",
        "\n",
        "words = list(set(data[\"Word\"].values))\n",
        "n_words = len(words)\n",
        "print(\"Number of words in the dataset: \", n_words)\n",
        "\n",
        "tags = list(set(data[\"Tag\"].values))\n",
        "print(\"Tags:\", tags)\n",
        "n_tags = len(tags)\n",
        "print(\"Number of Labels: \", n_tags)\n",
        "\n",
        "print(\"What the dataset looks like:\")\n",
        "# Show the first 10 rows\n",
        "data.head(n=5) "
      ]
    },
    {
      "cell_type": "code",
      "execution_count": null,
      "metadata": {
        "colab": {
          "base_uri": "https://localhost:8080/"
        },
        "id": "BRZ4GiaF1AWz",
        "outputId": "9aacbc48-9d4e-4bbc-8290-e016c9d46aee"
      },
      "outputs": [
        {
          "output_type": "stream",
          "name": "stdout",
          "text": [
            "Unique words in corpus: 267\n",
            "Unique tags in corpus: 5\n"
          ]
        }
      ],
      "source": [
        "print(\"Unique words in corpus:\", data['Word'].nunique())\n",
        "print(\"Unique tags in corpus:\", data['Tag'].nunique())"
      ]
    },
    {
      "cell_type": "code",
      "execution_count": null,
      "metadata": {
        "colab": {
          "base_uri": "https://localhost:8080/"
        },
        "id": "8wtSiUs-1AW1",
        "outputId": "42577261-ff68-4b3e-a081-f42aa969cc7d"
      },
      "outputs": [
        {
          "output_type": "stream",
          "name": "stdout",
          "text": [
            "['e-1-b', 'r-i', 'e-2-b', 'r-b', 'o']\n",
            "5\n"
          ]
        }
      ],
      "source": [
        "tags = list(set(data[\"Tag\"].values))\n",
        "print(tags)\n",
        "num_tags = len(tags)\n",
        "print(num_tags)"
      ]
    },
    {
      "cell_type": "code",
      "execution_count": null,
      "metadata": {
        "colab": {
          "base_uri": "https://localhost:8080/",
          "height": 542
        },
        "id": "oD1A49Pj1ftw",
        "outputId": "9ffb7b2f-911b-4c52-a24c-66c171c1b6f1"
      },
      "outputs": [
        {
          "output_type": "display_data",
          "data": {
            "text/html": [
              "<html>\n",
              "<head><meta charset=\"utf-8\" /></head>\n",
              "<body>\n",
              "    <div>            <script src=\"https://cdnjs.cloudflare.com/ajax/libs/mathjax/2.7.5/MathJax.js?config=TeX-AMS-MML_SVG\"></script><script type=\"text/javascript\">if (window.MathJax) {MathJax.Hub.Config({SVG: {font: \"STIX-Web\"}});}</script>                <script type=\"text/javascript\">window.PlotlyConfig = {MathJaxConfig: 'local'};</script>\n",
              "        <script src=\"https://cdn.plot.ly/plotly-2.8.3.min.js\"></script>                <div id=\"b7777ccf-feeb-4484-9ddb-dca217e82ead\" class=\"plotly-graph-div\" style=\"height:525px; width:100%;\"></div>            <script type=\"text/javascript\">                                    window.PLOTLYENV=window.PLOTLYENV || {};                                    if (document.getElementById(\"b7777ccf-feeb-4484-9ddb-dca217e82ead\")) {                    Plotly.newPlot(                        \"b7777ccf-feeb-4484-9ddb-dca217e82ead\",                        [{\"alignmentgroup\":\"True\",\"bingroup\":\"x\",\"hovertemplate\":\"Tag=%{x}<br>count=%{y}<extra></extra>\",\"legendgroup\":\"e-1-b\",\"marker\":{\"color\":\"#636efa\",\"pattern\":{\"shape\":\"\"}},\"name\":\"e-1-b\",\"offsetgroup\":\"e-1-b\",\"orientation\":\"v\",\"showlegend\":true,\"x\":[\"e-1-b\",\"e-1-b\",\"e-1-b\",\"e-1-b\",\"e-1-b\",\"e-1-b\",\"e-1-b\",\"e-1-b\",\"e-1-b\",\"e-1-b\",\"e-1-b\",\"e-1-b\",\"e-1-b\",\"e-1-b\",\"e-1-b\",\"e-1-b\",\"e-1-b\",\"e-1-b\",\"e-1-b\",\"e-1-b\",\"e-1-b\",\"e-1-b\",\"e-1-b\",\"e-1-b\",\"e-1-b\",\"e-1-b\",\"e-1-b\",\"e-1-b\",\"e-1-b\",\"e-1-b\",\"e-1-b\",\"e-1-b\",\"e-1-b\",\"e-1-b\",\"e-1-b\",\"e-1-b\",\"e-1-b\",\"e-1-b\",\"e-1-b\",\"e-1-b\",\"e-1-b\",\"e-1-b\",\"e-1-b\",\"e-1-b\",\"e-1-b\",\"e-1-b\",\"e-1-b\",\"e-1-b\",\"e-1-b\",\"e-1-b\",\"e-1-b\",\"e-1-b\",\"e-1-b\",\"e-1-b\",\"e-1-b\",\"e-1-b\",\"e-1-b\",\"e-1-b\",\"e-1-b\",\"e-1-b\",\"e-1-b\",\"e-1-b\",\"e-1-b\",\"e-1-b\",\"e-1-b\",\"e-1-b\",\"e-1-b\",\"e-1-b\",\"e-1-b\",\"e-1-b\",\"e-1-b\",\"e-1-b\",\"e-1-b\",\"e-1-b\",\"e-1-b\",\"e-1-b\",\"e-1-b\",\"e-1-b\",\"e-1-b\",\"e-1-b\",\"e-1-b\",\"e-1-b\",\"e-1-b\",\"e-1-b\",\"e-1-b\",\"e-1-b\",\"e-1-b\",\"e-1-b\",\"e-1-b\",\"e-1-b\",\"e-1-b\",\"e-1-b\",\"e-1-b\",\"e-1-b\",\"e-1-b\",\"e-1-b\",\"e-1-b\",\"e-1-b\",\"e-1-b\"],\"xaxis\":\"x\",\"yaxis\":\"y\",\"type\":\"histogram\"},{\"alignmentgroup\":\"True\",\"bingroup\":\"x\",\"hovertemplate\":\"Tag=%{x}<br>count=%{y}<extra></extra>\",\"legendgroup\":\"r-b\",\"marker\":{\"color\":\"#EF553B\",\"pattern\":{\"shape\":\"\"}},\"name\":\"r-b\",\"offsetgroup\":\"r-b\",\"orientation\":\"v\",\"showlegend\":true,\"x\":[\"r-b\",\"r-b\",\"r-b\",\"r-b\",\"r-b\",\"r-b\",\"r-b\",\"r-b\",\"r-b\",\"r-b\",\"r-b\",\"r-b\",\"r-b\",\"r-b\",\"r-b\",\"r-b\",\"r-b\",\"r-b\",\"r-b\",\"r-b\",\"r-b\",\"r-b\",\"r-b\",\"r-b\",\"r-b\",\"r-b\",\"r-b\",\"r-b\",\"r-b\",\"r-b\",\"r-b\",\"r-b\",\"r-b\",\"r-b\",\"r-b\",\"r-b\",\"r-b\",\"r-b\",\"r-b\",\"r-b\",\"r-b\",\"r-b\",\"r-b\",\"r-b\",\"r-b\",\"r-b\",\"r-b\",\"r-b\",\"r-b\",\"r-b\",\"r-b\",\"r-b\",\"r-b\",\"r-b\",\"r-b\",\"r-b\",\"r-b\",\"r-b\",\"r-b\",\"r-b\",\"r-b\",\"r-b\",\"r-b\",\"r-b\",\"r-b\",\"r-b\",\"r-b\",\"r-b\",\"r-b\",\"r-b\",\"r-b\",\"r-b\",\"r-b\",\"r-b\",\"r-b\",\"r-b\",\"r-b\",\"r-b\",\"r-b\",\"r-b\",\"r-b\",\"r-b\",\"r-b\",\"r-b\",\"r-b\",\"r-b\",\"r-b\",\"r-b\",\"r-b\",\"r-b\",\"r-b\",\"r-b\",\"r-b\",\"r-b\",\"r-b\",\"r-b\",\"r-b\"],\"xaxis\":\"x\",\"yaxis\":\"y\",\"type\":\"histogram\"},{\"alignmentgroup\":\"True\",\"bingroup\":\"x\",\"hovertemplate\":\"Tag=%{x}<br>count=%{y}<extra></extra>\",\"legendgroup\":\"r-i\",\"marker\":{\"color\":\"#00cc96\",\"pattern\":{\"shape\":\"\"}},\"name\":\"r-i\",\"offsetgroup\":\"r-i\",\"orientation\":\"v\",\"showlegend\":true,\"x\":[\"r-i\",\"r-i\",\"r-i\",\"r-i\",\"r-i\",\"r-i\",\"r-i\",\"r-i\",\"r-i\",\"r-i\",\"r-i\",\"r-i\",\"r-i\",\"r-i\",\"r-i\",\"r-i\",\"r-i\",\"r-i\",\"r-i\",\"r-i\",\"r-i\",\"r-i\",\"r-i\",\"r-i\",\"r-i\",\"r-i\",\"r-i\",\"r-i\",\"r-i\",\"r-i\",\"r-i\",\"r-i\",\"r-i\",\"r-i\",\"r-i\",\"r-i\"],\"xaxis\":\"x\",\"yaxis\":\"y\",\"type\":\"histogram\"},{\"alignmentgroup\":\"True\",\"bingroup\":\"x\",\"hovertemplate\":\"Tag=%{x}<br>count=%{y}<extra></extra>\",\"legendgroup\":\"e-2-b\",\"marker\":{\"color\":\"#ab63fa\",\"pattern\":{\"shape\":\"\"}},\"name\":\"e-2-b\",\"offsetgroup\":\"e-2-b\",\"orientation\":\"v\",\"showlegend\":true,\"x\":[\"e-2-b\",\"e-2-b\",\"e-2-b\",\"e-2-b\",\"e-2-b\",\"e-2-b\",\"e-2-b\",\"e-2-b\",\"e-2-b\",\"e-2-b\",\"e-2-b\",\"e-2-b\",\"e-2-b\",\"e-2-b\",\"e-2-b\",\"e-2-b\",\"e-2-b\",\"e-2-b\",\"e-2-b\",\"e-2-b\",\"e-2-b\",\"e-2-b\",\"e-2-b\",\"e-2-b\",\"e-2-b\",\"e-2-b\",\"e-2-b\",\"e-2-b\",\"e-2-b\",\"e-2-b\",\"e-2-b\",\"e-2-b\",\"e-2-b\",\"e-2-b\",\"e-2-b\",\"e-2-b\",\"e-2-b\",\"e-2-b\",\"e-2-b\",\"e-2-b\",\"e-2-b\",\"e-2-b\",\"e-2-b\",\"e-2-b\",\"e-2-b\",\"e-2-b\",\"e-2-b\",\"e-2-b\",\"e-2-b\",\"e-2-b\",\"e-2-b\",\"e-2-b\",\"e-2-b\",\"e-2-b\",\"e-2-b\",\"e-2-b\",\"e-2-b\",\"e-2-b\",\"e-2-b\",\"e-2-b\",\"e-2-b\",\"e-2-b\",\"e-2-b\",\"e-2-b\",\"e-2-b\",\"e-2-b\",\"e-2-b\",\"e-2-b\",\"e-2-b\",\"e-2-b\",\"e-2-b\",\"e-2-b\",\"e-2-b\",\"e-2-b\",\"e-2-b\",\"e-2-b\",\"e-2-b\",\"e-2-b\",\"e-2-b\",\"e-2-b\",\"e-2-b\",\"e-2-b\",\"e-2-b\",\"e-2-b\",\"e-2-b\",\"e-2-b\",\"e-2-b\",\"e-2-b\",\"e-2-b\",\"e-2-b\",\"e-2-b\",\"e-2-b\",\"e-2-b\",\"e-2-b\",\"e-2-b\",\"e-2-b\",\"e-2-b\"],\"xaxis\":\"x\",\"yaxis\":\"y\",\"type\":\"histogram\"},{\"alignmentgroup\":\"True\",\"bingroup\":\"x\",\"hovertemplate\":\"Tag=%{x}<br>count=%{y}<extra></extra>\",\"legendgroup\":\"o\",\"marker\":{\"color\":\"#FFA15A\",\"pattern\":{\"shape\":\"\"}},\"name\":\"o\",\"offsetgroup\":\"o\",\"orientation\":\"v\",\"showlegend\":true,\"x\":[\"o\",\"o\",\"o\",\"o\",\"o\",\"o\",\"o\",\"o\",\"o\",\"o\",\"o\",\"o\",\"o\",\"o\",\"o\",\"o\",\"o\",\"o\",\"o\",\"o\"],\"xaxis\":\"x\",\"yaxis\":\"y\",\"type\":\"histogram\"}],                        {\"template\":{\"data\":{\"bar\":[{\"error_x\":{\"color\":\"#2a3f5f\"},\"error_y\":{\"color\":\"#2a3f5f\"},\"marker\":{\"line\":{\"color\":\"#E5ECF6\",\"width\":0.5},\"pattern\":{\"fillmode\":\"overlay\",\"size\":10,\"solidity\":0.2}},\"type\":\"bar\"}],\"barpolar\":[{\"marker\":{\"line\":{\"color\":\"#E5ECF6\",\"width\":0.5},\"pattern\":{\"fillmode\":\"overlay\",\"size\":10,\"solidity\":0.2}},\"type\":\"barpolar\"}],\"carpet\":[{\"aaxis\":{\"endlinecolor\":\"#2a3f5f\",\"gridcolor\":\"white\",\"linecolor\":\"white\",\"minorgridcolor\":\"white\",\"startlinecolor\":\"#2a3f5f\"},\"baxis\":{\"endlinecolor\":\"#2a3f5f\",\"gridcolor\":\"white\",\"linecolor\":\"white\",\"minorgridcolor\":\"white\",\"startlinecolor\":\"#2a3f5f\"},\"type\":\"carpet\"}],\"choropleth\":[{\"colorbar\":{\"outlinewidth\":0,\"ticks\":\"\"},\"type\":\"choropleth\"}],\"contour\":[{\"colorbar\":{\"outlinewidth\":0,\"ticks\":\"\"},\"colorscale\":[[0.0,\"#0d0887\"],[0.1111111111111111,\"#46039f\"],[0.2222222222222222,\"#7201a8\"],[0.3333333333333333,\"#9c179e\"],[0.4444444444444444,\"#bd3786\"],[0.5555555555555556,\"#d8576b\"],[0.6666666666666666,\"#ed7953\"],[0.7777777777777778,\"#fb9f3a\"],[0.8888888888888888,\"#fdca26\"],[1.0,\"#f0f921\"]],\"type\":\"contour\"}],\"contourcarpet\":[{\"colorbar\":{\"outlinewidth\":0,\"ticks\":\"\"},\"type\":\"contourcarpet\"}],\"heatmap\":[{\"colorbar\":{\"outlinewidth\":0,\"ticks\":\"\"},\"colorscale\":[[0.0,\"#0d0887\"],[0.1111111111111111,\"#46039f\"],[0.2222222222222222,\"#7201a8\"],[0.3333333333333333,\"#9c179e\"],[0.4444444444444444,\"#bd3786\"],[0.5555555555555556,\"#d8576b\"],[0.6666666666666666,\"#ed7953\"],[0.7777777777777778,\"#fb9f3a\"],[0.8888888888888888,\"#fdca26\"],[1.0,\"#f0f921\"]],\"type\":\"heatmap\"}],\"heatmapgl\":[{\"colorbar\":{\"outlinewidth\":0,\"ticks\":\"\"},\"colorscale\":[[0.0,\"#0d0887\"],[0.1111111111111111,\"#46039f\"],[0.2222222222222222,\"#7201a8\"],[0.3333333333333333,\"#9c179e\"],[0.4444444444444444,\"#bd3786\"],[0.5555555555555556,\"#d8576b\"],[0.6666666666666666,\"#ed7953\"],[0.7777777777777778,\"#fb9f3a\"],[0.8888888888888888,\"#fdca26\"],[1.0,\"#f0f921\"]],\"type\":\"heatmapgl\"}],\"histogram\":[{\"marker\":{\"pattern\":{\"fillmode\":\"overlay\",\"size\":10,\"solidity\":0.2}},\"type\":\"histogram\"}],\"histogram2d\":[{\"colorbar\":{\"outlinewidth\":0,\"ticks\":\"\"},\"colorscale\":[[0.0,\"#0d0887\"],[0.1111111111111111,\"#46039f\"],[0.2222222222222222,\"#7201a8\"],[0.3333333333333333,\"#9c179e\"],[0.4444444444444444,\"#bd3786\"],[0.5555555555555556,\"#d8576b\"],[0.6666666666666666,\"#ed7953\"],[0.7777777777777778,\"#fb9f3a\"],[0.8888888888888888,\"#fdca26\"],[1.0,\"#f0f921\"]],\"type\":\"histogram2d\"}],\"histogram2dcontour\":[{\"colorbar\":{\"outlinewidth\":0,\"ticks\":\"\"},\"colorscale\":[[0.0,\"#0d0887\"],[0.1111111111111111,\"#46039f\"],[0.2222222222222222,\"#7201a8\"],[0.3333333333333333,\"#9c179e\"],[0.4444444444444444,\"#bd3786\"],[0.5555555555555556,\"#d8576b\"],[0.6666666666666666,\"#ed7953\"],[0.7777777777777778,\"#fb9f3a\"],[0.8888888888888888,\"#fdca26\"],[1.0,\"#f0f921\"]],\"type\":\"histogram2dcontour\"}],\"mesh3d\":[{\"colorbar\":{\"outlinewidth\":0,\"ticks\":\"\"},\"type\":\"mesh3d\"}],\"parcoords\":[{\"line\":{\"colorbar\":{\"outlinewidth\":0,\"ticks\":\"\"}},\"type\":\"parcoords\"}],\"pie\":[{\"automargin\":true,\"type\":\"pie\"}],\"scatter\":[{\"marker\":{\"colorbar\":{\"outlinewidth\":0,\"ticks\":\"\"}},\"type\":\"scatter\"}],\"scatter3d\":[{\"line\":{\"colorbar\":{\"outlinewidth\":0,\"ticks\":\"\"}},\"marker\":{\"colorbar\":{\"outlinewidth\":0,\"ticks\":\"\"}},\"type\":\"scatter3d\"}],\"scattercarpet\":[{\"marker\":{\"colorbar\":{\"outlinewidth\":0,\"ticks\":\"\"}},\"type\":\"scattercarpet\"}],\"scattergeo\":[{\"marker\":{\"colorbar\":{\"outlinewidth\":0,\"ticks\":\"\"}},\"type\":\"scattergeo\"}],\"scattergl\":[{\"marker\":{\"colorbar\":{\"outlinewidth\":0,\"ticks\":\"\"}},\"type\":\"scattergl\"}],\"scattermapbox\":[{\"marker\":{\"colorbar\":{\"outlinewidth\":0,\"ticks\":\"\"}},\"type\":\"scattermapbox\"}],\"scatterpolar\":[{\"marker\":{\"colorbar\":{\"outlinewidth\":0,\"ticks\":\"\"}},\"type\":\"scatterpolar\"}],\"scatterpolargl\":[{\"marker\":{\"colorbar\":{\"outlinewidth\":0,\"ticks\":\"\"}},\"type\":\"scatterpolargl\"}],\"scatterternary\":[{\"marker\":{\"colorbar\":{\"outlinewidth\":0,\"ticks\":\"\"}},\"type\":\"scatterternary\"}],\"surface\":[{\"colorbar\":{\"outlinewidth\":0,\"ticks\":\"\"},\"colorscale\":[[0.0,\"#0d0887\"],[0.1111111111111111,\"#46039f\"],[0.2222222222222222,\"#7201a8\"],[0.3333333333333333,\"#9c179e\"],[0.4444444444444444,\"#bd3786\"],[0.5555555555555556,\"#d8576b\"],[0.6666666666666666,\"#ed7953\"],[0.7777777777777778,\"#fb9f3a\"],[0.8888888888888888,\"#fdca26\"],[1.0,\"#f0f921\"]],\"type\":\"surface\"}],\"table\":[{\"cells\":{\"fill\":{\"color\":\"#EBF0F8\"},\"line\":{\"color\":\"white\"}},\"header\":{\"fill\":{\"color\":\"#C8D4E3\"},\"line\":{\"color\":\"white\"}},\"type\":\"table\"}]},\"layout\":{\"annotationdefaults\":{\"arrowcolor\":\"#2a3f5f\",\"arrowhead\":0,\"arrowwidth\":1},\"autotypenumbers\":\"strict\",\"coloraxis\":{\"colorbar\":{\"outlinewidth\":0,\"ticks\":\"\"}},\"colorscale\":{\"diverging\":[[0,\"#8e0152\"],[0.1,\"#c51b7d\"],[0.2,\"#de77ae\"],[0.3,\"#f1b6da\"],[0.4,\"#fde0ef\"],[0.5,\"#f7f7f7\"],[0.6,\"#e6f5d0\"],[0.7,\"#b8e186\"],[0.8,\"#7fbc41\"],[0.9,\"#4d9221\"],[1,\"#276419\"]],\"sequential\":[[0.0,\"#0d0887\"],[0.1111111111111111,\"#46039f\"],[0.2222222222222222,\"#7201a8\"],[0.3333333333333333,\"#9c179e\"],[0.4444444444444444,\"#bd3786\"],[0.5555555555555556,\"#d8576b\"],[0.6666666666666666,\"#ed7953\"],[0.7777777777777778,\"#fb9f3a\"],[0.8888888888888888,\"#fdca26\"],[1.0,\"#f0f921\"]],\"sequentialminus\":[[0.0,\"#0d0887\"],[0.1111111111111111,\"#46039f\"],[0.2222222222222222,\"#7201a8\"],[0.3333333333333333,\"#9c179e\"],[0.4444444444444444,\"#bd3786\"],[0.5555555555555556,\"#d8576b\"],[0.6666666666666666,\"#ed7953\"],[0.7777777777777778,\"#fb9f3a\"],[0.8888888888888888,\"#fdca26\"],[1.0,\"#f0f921\"]]},\"colorway\":[\"#636efa\",\"#EF553B\",\"#00cc96\",\"#ab63fa\",\"#FFA15A\",\"#19d3f3\",\"#FF6692\",\"#B6E880\",\"#FF97FF\",\"#FECB52\"],\"font\":{\"color\":\"#2a3f5f\"},\"geo\":{\"bgcolor\":\"white\",\"lakecolor\":\"white\",\"landcolor\":\"#E5ECF6\",\"showlakes\":true,\"showland\":true,\"subunitcolor\":\"white\"},\"hoverlabel\":{\"align\":\"left\"},\"hovermode\":\"closest\",\"mapbox\":{\"style\":\"light\"},\"paper_bgcolor\":\"white\",\"plot_bgcolor\":\"#E5ECF6\",\"polar\":{\"angularaxis\":{\"gridcolor\":\"white\",\"linecolor\":\"white\",\"ticks\":\"\"},\"bgcolor\":\"#E5ECF6\",\"radialaxis\":{\"gridcolor\":\"white\",\"linecolor\":\"white\",\"ticks\":\"\"}},\"scene\":{\"xaxis\":{\"backgroundcolor\":\"#E5ECF6\",\"gridcolor\":\"white\",\"gridwidth\":2,\"linecolor\":\"white\",\"showbackground\":true,\"ticks\":\"\",\"zerolinecolor\":\"white\"},\"yaxis\":{\"backgroundcolor\":\"#E5ECF6\",\"gridcolor\":\"white\",\"gridwidth\":2,\"linecolor\":\"white\",\"showbackground\":true,\"ticks\":\"\",\"zerolinecolor\":\"white\"},\"zaxis\":{\"backgroundcolor\":\"#E5ECF6\",\"gridcolor\":\"white\",\"gridwidth\":2,\"linecolor\":\"white\",\"showbackground\":true,\"ticks\":\"\",\"zerolinecolor\":\"white\"}},\"shapedefaults\":{\"line\":{\"color\":\"#2a3f5f\"}},\"ternary\":{\"aaxis\":{\"gridcolor\":\"white\",\"linecolor\":\"white\",\"ticks\":\"\"},\"baxis\":{\"gridcolor\":\"white\",\"linecolor\":\"white\",\"ticks\":\"\"},\"bgcolor\":\"#E5ECF6\",\"caxis\":{\"gridcolor\":\"white\",\"linecolor\":\"white\",\"ticks\":\"\"}},\"title\":{\"x\":0.05},\"xaxis\":{\"automargin\":true,\"gridcolor\":\"white\",\"linecolor\":\"white\",\"ticks\":\"\",\"title\":{\"standoff\":15},\"zerolinecolor\":\"white\",\"zerolinewidth\":2},\"yaxis\":{\"automargin\":true,\"gridcolor\":\"white\",\"linecolor\":\"white\",\"ticks\":\"\",\"title\":{\"standoff\":15},\"zerolinecolor\":\"white\",\"zerolinewidth\":2}}},\"xaxis\":{\"anchor\":\"y\",\"domain\":[0.0,1.0],\"title\":{\"text\":\"Tag\"},\"categoryorder\":\"array\",\"categoryarray\":[\"e-1-b\",\"r-b\",\"r-i\",\"e-2-b\",\"o\"]},\"yaxis\":{\"anchor\":\"x\",\"domain\":[0.0,1.0],\"title\":{\"text\":\"count\"}},\"legend\":{\"title\":{\"text\":\"Tag\"},\"tracegroupgap\":0},\"margin\":{\"t\":60},\"barmode\":\"relative\"},                        {\"responsive\": true}                    ).then(function(){\n",
              "                            \n",
              "var gd = document.getElementById('b7777ccf-feeb-4484-9ddb-dca217e82ead');\n",
              "var x = new MutationObserver(function (mutations, observer) {{\n",
              "        var display = window.getComputedStyle(gd).display;\n",
              "        if (!display || display === 'none') {{\n",
              "            console.log([gd, 'removed!']);\n",
              "            Plotly.purge(gd);\n",
              "            observer.disconnect();\n",
              "        }}\n",
              "}});\n",
              "\n",
              "// Listen for the removal of the full notebook cells\n",
              "var notebookContainer = gd.closest('#notebook-container');\n",
              "if (notebookContainer) {{\n",
              "    x.observe(notebookContainer, {childList: true});\n",
              "}}\n",
              "\n",
              "// Listen for the clearing of the current output cell\n",
              "var outputEl = gd.closest('.output');\n",
              "if (outputEl) {{\n",
              "    x.observe(outputEl, {childList: true});\n",
              "}}\n",
              "\n",
              "                        })                };                            </script>        </div>\n",
              "</body>\n",
              "</html>"
            ]
          },
          "metadata": {}
        }
      ],
      "source": [
        "import plotly.express as px\n",
        "\n",
        "fig = px.histogram(data[~data.Tag.str.contains(\"O\")], x=\"Tag\",color=\"Tag\")\n",
        "fig.show()"
      ]
    },
    {
      "cell_type": "code",
      "execution_count": null,
      "metadata": {
        "id": "g8vJ_wWi1AW2"
      },
      "outputs": [],
      "source": [
        "import tqdm\n",
        "def sentence_integrate(data):\n",
        "  agg_func = lambda s: [(w, t) for w, t in zip(s[\"Word\"].values.tolist(), \n",
        "                                                  s[\"Tag\"].values.tolist())]\n",
        "  return data.groupby('Sentence #').apply(agg_func).tolist()\n",
        "sentences=sentence_integrate(data)"
      ]
    },
    {
      "cell_type": "code",
      "execution_count": null,
      "metadata": {
        "colab": {
          "base_uri": "https://localhost:8080/",
          "height": 542
        },
        "id": "_m_kcgpy1AW4",
        "outputId": "9a8695b8-c766-4e8f-dbdb-586cbf84ea4e"
      },
      "outputs": [
        {
          "output_type": "display_data",
          "data": {
            "text/html": [
              "<html>\n",
              "<head><meta charset=\"utf-8\" /></head>\n",
              "<body>\n",
              "    <div>            <script src=\"https://cdnjs.cloudflare.com/ajax/libs/mathjax/2.7.5/MathJax.js?config=TeX-AMS-MML_SVG\"></script><script type=\"text/javascript\">if (window.MathJax) {MathJax.Hub.Config({SVG: {font: \"STIX-Web\"}});}</script>                <script type=\"text/javascript\">window.PlotlyConfig = {MathJaxConfig: 'local'};</script>\n",
              "        <script src=\"https://cdn.plot.ly/plotly-2.8.3.min.js\"></script>                <div id=\"57a1a813-e8fb-442b-8a95-e97dfb8e0f7d\" class=\"plotly-graph-div\" style=\"height:525px; width:100%;\"></div>            <script type=\"text/javascript\">                                    window.PLOTLYENV=window.PLOTLYENV || {};                                    if (document.getElementById(\"57a1a813-e8fb-442b-8a95-e97dfb8e0f7d\")) {                    Plotly.newPlot(                        \"57a1a813-e8fb-442b-8a95-e97dfb8e0f7d\",                        [{\"alignmentgroup\":\"True\",\"bingroup\":\"x\",\"hovertemplate\":\"length=%{x}<br>count=%{y}<extra></extra>\",\"legendgroup\":\"\",\"marker\":{\"color\":\"#636efa\",\"pattern\":{\"shape\":\"\"}},\"name\":\"\",\"offsetgroup\":\"\",\"orientation\":\"v\",\"showlegend\":false,\"x\":[4,3,3,3,3,5,4,3,3,3,3,4,3,4,3,3,3,3,3,3,3,3,3,4,3,5,3,3,3,3,3,3,3,3,4,3,4,3,4,3,3,3,3,5,4,3,3,6,4,3,3,4,3,3,3,4,3,4,3,4,4,4,4,3,3,3,4,3,4,5,4,4,4,3,5,4,3,4,4,4,3,4,3,5,3,3,3,5,3,4,4,3,3,4,4,6,3,3,4],\"xaxis\":\"x\",\"yaxis\":\"y\",\"type\":\"histogram\"},{\"alignmentgroup\":\"True\",\"hovertemplate\":\"length=%{x}<extra></extra>\",\"legendgroup\":\"\",\"marker\":{\"color\":\"#636efa\"},\"name\":\"\",\"notched\":true,\"offsetgroup\":\"\",\"showlegend\":false,\"x\":[4,3,3,3,3,5,4,3,3,3,3,4,3,4,3,3,3,3,3,3,3,3,3,4,3,5,3,3,3,3,3,3,3,3,4,3,4,3,4,3,3,3,3,5,4,3,3,6,4,3,3,4,3,3,3,4,3,4,3,4,4,4,4,3,3,3,4,3,4,5,4,4,4,3,5,4,3,4,4,4,3,4,3,5,3,3,3,5,3,4,4,3,3,4,4,6,3,3,4],\"xaxis\":\"x2\",\"yaxis\":\"y2\",\"type\":\"box\"}],                        {\"template\":{\"data\":{\"bar\":[{\"error_x\":{\"color\":\"#2a3f5f\"},\"error_y\":{\"color\":\"#2a3f5f\"},\"marker\":{\"line\":{\"color\":\"#E5ECF6\",\"width\":0.5},\"pattern\":{\"fillmode\":\"overlay\",\"size\":10,\"solidity\":0.2}},\"type\":\"bar\"}],\"barpolar\":[{\"marker\":{\"line\":{\"color\":\"#E5ECF6\",\"width\":0.5},\"pattern\":{\"fillmode\":\"overlay\",\"size\":10,\"solidity\":0.2}},\"type\":\"barpolar\"}],\"carpet\":[{\"aaxis\":{\"endlinecolor\":\"#2a3f5f\",\"gridcolor\":\"white\",\"linecolor\":\"white\",\"minorgridcolor\":\"white\",\"startlinecolor\":\"#2a3f5f\"},\"baxis\":{\"endlinecolor\":\"#2a3f5f\",\"gridcolor\":\"white\",\"linecolor\":\"white\",\"minorgridcolor\":\"white\",\"startlinecolor\":\"#2a3f5f\"},\"type\":\"carpet\"}],\"choropleth\":[{\"colorbar\":{\"outlinewidth\":0,\"ticks\":\"\"},\"type\":\"choropleth\"}],\"contour\":[{\"colorbar\":{\"outlinewidth\":0,\"ticks\":\"\"},\"colorscale\":[[0.0,\"#0d0887\"],[0.1111111111111111,\"#46039f\"],[0.2222222222222222,\"#7201a8\"],[0.3333333333333333,\"#9c179e\"],[0.4444444444444444,\"#bd3786\"],[0.5555555555555556,\"#d8576b\"],[0.6666666666666666,\"#ed7953\"],[0.7777777777777778,\"#fb9f3a\"],[0.8888888888888888,\"#fdca26\"],[1.0,\"#f0f921\"]],\"type\":\"contour\"}],\"contourcarpet\":[{\"colorbar\":{\"outlinewidth\":0,\"ticks\":\"\"},\"type\":\"contourcarpet\"}],\"heatmap\":[{\"colorbar\":{\"outlinewidth\":0,\"ticks\":\"\"},\"colorscale\":[[0.0,\"#0d0887\"],[0.1111111111111111,\"#46039f\"],[0.2222222222222222,\"#7201a8\"],[0.3333333333333333,\"#9c179e\"],[0.4444444444444444,\"#bd3786\"],[0.5555555555555556,\"#d8576b\"],[0.6666666666666666,\"#ed7953\"],[0.7777777777777778,\"#fb9f3a\"],[0.8888888888888888,\"#fdca26\"],[1.0,\"#f0f921\"]],\"type\":\"heatmap\"}],\"heatmapgl\":[{\"colorbar\":{\"outlinewidth\":0,\"ticks\":\"\"},\"colorscale\":[[0.0,\"#0d0887\"],[0.1111111111111111,\"#46039f\"],[0.2222222222222222,\"#7201a8\"],[0.3333333333333333,\"#9c179e\"],[0.4444444444444444,\"#bd3786\"],[0.5555555555555556,\"#d8576b\"],[0.6666666666666666,\"#ed7953\"],[0.7777777777777778,\"#fb9f3a\"],[0.8888888888888888,\"#fdca26\"],[1.0,\"#f0f921\"]],\"type\":\"heatmapgl\"}],\"histogram\":[{\"marker\":{\"pattern\":{\"fillmode\":\"overlay\",\"size\":10,\"solidity\":0.2}},\"type\":\"histogram\"}],\"histogram2d\":[{\"colorbar\":{\"outlinewidth\":0,\"ticks\":\"\"},\"colorscale\":[[0.0,\"#0d0887\"],[0.1111111111111111,\"#46039f\"],[0.2222222222222222,\"#7201a8\"],[0.3333333333333333,\"#9c179e\"],[0.4444444444444444,\"#bd3786\"],[0.5555555555555556,\"#d8576b\"],[0.6666666666666666,\"#ed7953\"],[0.7777777777777778,\"#fb9f3a\"],[0.8888888888888888,\"#fdca26\"],[1.0,\"#f0f921\"]],\"type\":\"histogram2d\"}],\"histogram2dcontour\":[{\"colorbar\":{\"outlinewidth\":0,\"ticks\":\"\"},\"colorscale\":[[0.0,\"#0d0887\"],[0.1111111111111111,\"#46039f\"],[0.2222222222222222,\"#7201a8\"],[0.3333333333333333,\"#9c179e\"],[0.4444444444444444,\"#bd3786\"],[0.5555555555555556,\"#d8576b\"],[0.6666666666666666,\"#ed7953\"],[0.7777777777777778,\"#fb9f3a\"],[0.8888888888888888,\"#fdca26\"],[1.0,\"#f0f921\"]],\"type\":\"histogram2dcontour\"}],\"mesh3d\":[{\"colorbar\":{\"outlinewidth\":0,\"ticks\":\"\"},\"type\":\"mesh3d\"}],\"parcoords\":[{\"line\":{\"colorbar\":{\"outlinewidth\":0,\"ticks\":\"\"}},\"type\":\"parcoords\"}],\"pie\":[{\"automargin\":true,\"type\":\"pie\"}],\"scatter\":[{\"marker\":{\"colorbar\":{\"outlinewidth\":0,\"ticks\":\"\"}},\"type\":\"scatter\"}],\"scatter3d\":[{\"line\":{\"colorbar\":{\"outlinewidth\":0,\"ticks\":\"\"}},\"marker\":{\"colorbar\":{\"outlinewidth\":0,\"ticks\":\"\"}},\"type\":\"scatter3d\"}],\"scattercarpet\":[{\"marker\":{\"colorbar\":{\"outlinewidth\":0,\"ticks\":\"\"}},\"type\":\"scattercarpet\"}],\"scattergeo\":[{\"marker\":{\"colorbar\":{\"outlinewidth\":0,\"ticks\":\"\"}},\"type\":\"scattergeo\"}],\"scattergl\":[{\"marker\":{\"colorbar\":{\"outlinewidth\":0,\"ticks\":\"\"}},\"type\":\"scattergl\"}],\"scattermapbox\":[{\"marker\":{\"colorbar\":{\"outlinewidth\":0,\"ticks\":\"\"}},\"type\":\"scattermapbox\"}],\"scatterpolar\":[{\"marker\":{\"colorbar\":{\"outlinewidth\":0,\"ticks\":\"\"}},\"type\":\"scatterpolar\"}],\"scatterpolargl\":[{\"marker\":{\"colorbar\":{\"outlinewidth\":0,\"ticks\":\"\"}},\"type\":\"scatterpolargl\"}],\"scatterternary\":[{\"marker\":{\"colorbar\":{\"outlinewidth\":0,\"ticks\":\"\"}},\"type\":\"scatterternary\"}],\"surface\":[{\"colorbar\":{\"outlinewidth\":0,\"ticks\":\"\"},\"colorscale\":[[0.0,\"#0d0887\"],[0.1111111111111111,\"#46039f\"],[0.2222222222222222,\"#7201a8\"],[0.3333333333333333,\"#9c179e\"],[0.4444444444444444,\"#bd3786\"],[0.5555555555555556,\"#d8576b\"],[0.6666666666666666,\"#ed7953\"],[0.7777777777777778,\"#fb9f3a\"],[0.8888888888888888,\"#fdca26\"],[1.0,\"#f0f921\"]],\"type\":\"surface\"}],\"table\":[{\"cells\":{\"fill\":{\"color\":\"#EBF0F8\"},\"line\":{\"color\":\"white\"}},\"header\":{\"fill\":{\"color\":\"#C8D4E3\"},\"line\":{\"color\":\"white\"}},\"type\":\"table\"}]},\"layout\":{\"annotationdefaults\":{\"arrowcolor\":\"#2a3f5f\",\"arrowhead\":0,\"arrowwidth\":1},\"autotypenumbers\":\"strict\",\"coloraxis\":{\"colorbar\":{\"outlinewidth\":0,\"ticks\":\"\"}},\"colorscale\":{\"diverging\":[[0,\"#8e0152\"],[0.1,\"#c51b7d\"],[0.2,\"#de77ae\"],[0.3,\"#f1b6da\"],[0.4,\"#fde0ef\"],[0.5,\"#f7f7f7\"],[0.6,\"#e6f5d0\"],[0.7,\"#b8e186\"],[0.8,\"#7fbc41\"],[0.9,\"#4d9221\"],[1,\"#276419\"]],\"sequential\":[[0.0,\"#0d0887\"],[0.1111111111111111,\"#46039f\"],[0.2222222222222222,\"#7201a8\"],[0.3333333333333333,\"#9c179e\"],[0.4444444444444444,\"#bd3786\"],[0.5555555555555556,\"#d8576b\"],[0.6666666666666666,\"#ed7953\"],[0.7777777777777778,\"#fb9f3a\"],[0.8888888888888888,\"#fdca26\"],[1.0,\"#f0f921\"]],\"sequentialminus\":[[0.0,\"#0d0887\"],[0.1111111111111111,\"#46039f\"],[0.2222222222222222,\"#7201a8\"],[0.3333333333333333,\"#9c179e\"],[0.4444444444444444,\"#bd3786\"],[0.5555555555555556,\"#d8576b\"],[0.6666666666666666,\"#ed7953\"],[0.7777777777777778,\"#fb9f3a\"],[0.8888888888888888,\"#fdca26\"],[1.0,\"#f0f921\"]]},\"colorway\":[\"#636efa\",\"#EF553B\",\"#00cc96\",\"#ab63fa\",\"#FFA15A\",\"#19d3f3\",\"#FF6692\",\"#B6E880\",\"#FF97FF\",\"#FECB52\"],\"font\":{\"color\":\"#2a3f5f\"},\"geo\":{\"bgcolor\":\"white\",\"lakecolor\":\"white\",\"landcolor\":\"#E5ECF6\",\"showlakes\":true,\"showland\":true,\"subunitcolor\":\"white\"},\"hoverlabel\":{\"align\":\"left\"},\"hovermode\":\"closest\",\"mapbox\":{\"style\":\"light\"},\"paper_bgcolor\":\"white\",\"plot_bgcolor\":\"#E5ECF6\",\"polar\":{\"angularaxis\":{\"gridcolor\":\"white\",\"linecolor\":\"white\",\"ticks\":\"\"},\"bgcolor\":\"#E5ECF6\",\"radialaxis\":{\"gridcolor\":\"white\",\"linecolor\":\"white\",\"ticks\":\"\"}},\"scene\":{\"xaxis\":{\"backgroundcolor\":\"#E5ECF6\",\"gridcolor\":\"white\",\"gridwidth\":2,\"linecolor\":\"white\",\"showbackground\":true,\"ticks\":\"\",\"zerolinecolor\":\"white\"},\"yaxis\":{\"backgroundcolor\":\"#E5ECF6\",\"gridcolor\":\"white\",\"gridwidth\":2,\"linecolor\":\"white\",\"showbackground\":true,\"ticks\":\"\",\"zerolinecolor\":\"white\"},\"zaxis\":{\"backgroundcolor\":\"#E5ECF6\",\"gridcolor\":\"white\",\"gridwidth\":2,\"linecolor\":\"white\",\"showbackground\":true,\"ticks\":\"\",\"zerolinecolor\":\"white\"}},\"shapedefaults\":{\"line\":{\"color\":\"#2a3f5f\"}},\"ternary\":{\"aaxis\":{\"gridcolor\":\"white\",\"linecolor\":\"white\",\"ticks\":\"\"},\"baxis\":{\"gridcolor\":\"white\",\"linecolor\":\"white\",\"ticks\":\"\"},\"bgcolor\":\"#E5ECF6\",\"caxis\":{\"gridcolor\":\"white\",\"linecolor\":\"white\",\"ticks\":\"\"}},\"title\":{\"x\":0.05},\"xaxis\":{\"automargin\":true,\"gridcolor\":\"white\",\"linecolor\":\"white\",\"ticks\":\"\",\"title\":{\"standoff\":15},\"zerolinecolor\":\"white\",\"zerolinewidth\":2},\"yaxis\":{\"automargin\":true,\"gridcolor\":\"white\",\"linecolor\":\"white\",\"ticks\":\"\",\"title\":{\"standoff\":15},\"zerolinecolor\":\"white\",\"zerolinewidth\":2}}},\"xaxis\":{\"anchor\":\"y\",\"domain\":[0.0,1.0],\"title\":{\"text\":\"length\"}},\"yaxis\":{\"anchor\":\"x\",\"domain\":[0.0,0.8316],\"title\":{\"text\":\"count\"}},\"xaxis2\":{\"anchor\":\"y2\",\"domain\":[0.0,1.0],\"matches\":\"x\",\"showticklabels\":false,\"showgrid\":true},\"yaxis2\":{\"anchor\":\"x2\",\"domain\":[0.8416,1.0],\"matches\":\"y2\",\"showticklabels\":false,\"showline\":false,\"ticks\":\"\",\"showgrid\":false},\"legend\":{\"tracegroupgap\":0},\"margin\":{\"t\":60},\"barmode\":\"relative\"},                        {\"responsive\": true}                    ).then(function(){\n",
              "                            \n",
              "var gd = document.getElementById('57a1a813-e8fb-442b-8a95-e97dfb8e0f7d');\n",
              "var x = new MutationObserver(function (mutations, observer) {{\n",
              "        var display = window.getComputedStyle(gd).display;\n",
              "        if (!display || display === 'none') {{\n",
              "            console.log([gd, 'removed!']);\n",
              "            Plotly.purge(gd);\n",
              "            observer.disconnect();\n",
              "        }}\n",
              "}});\n",
              "\n",
              "// Listen for the removal of the full notebook cells\n",
              "var notebookContainer = gd.closest('#notebook-container');\n",
              "if (notebookContainer) {{\n",
              "    x.observe(notebookContainer, {childList: true});\n",
              "}}\n",
              "\n",
              "// Listen for the clearing of the current output cell\n",
              "var outputEl = gd.closest('.output');\n",
              "if (outputEl) {{\n",
              "    x.observe(outputEl, {childList: true});\n",
              "}}\n",
              "\n",
              "                        })                };                            </script>        </div>\n",
              "</body>\n",
              "</html>"
            ]
          },
          "metadata": {}
        }
      ],
      "source": [
        "import plotly.express as px\n",
        "\n",
        "fig = px.histogram(pd.DataFrame([len(s) for s in sentences],columns=['length']),x=\"length\",marginal='box')\n",
        "fig.show()"
      ]
    },
    {
      "cell_type": "markdown",
      "metadata": {
        "id": "nrTYIXhbOPhZ"
      },
      "source": [
        "## Extracting Triplets from the dataset using Rule-Based Approach on Training Dataset to test the performance of the rule-based approach"
      ]
    },
    {
      "cell_type": "code",
      "execution_count": null,
      "metadata": {
        "id": "aho-NI290T5a"
      },
      "outputs": [],
      "source": [
        "import tqdm\n",
        "def sentence_integrate(data):\n",
        "  agg_func = lambda s: [w for w in s[\"Word\"].values.tolist()]\n",
        "  return data.groupby('Sentence #').apply(agg_func).tolist()\n",
        "\n",
        "curatedData = sentence_integrate(data)"
      ]
    },
    {
      "cell_type": "code",
      "execution_count": null,
      "metadata": {
        "colab": {
          "base_uri": "https://localhost:8080/"
        },
        "id": "Xsx_fxAC0whN",
        "outputId": "99429624-893d-48db-a773-f1d20db1d910"
      },
      "outputs": [
        {
          "output_type": "stream",
          "name": "stdout",
          "text": [
            "[['templ', 'set', 'on', 'fire'], ['player', 'triumph', 'jumaji'], ['71', 'receiv', 'applaud'], ['wife', 'jump', 'conclus'], ['seri', 'air', 'juli']]\n"
          ]
        }
      ],
      "source": [
        "print(curatedData[:5])\n",
        "#create list of string from list of list of words and add space after every element except the last\n",
        "def list_to_string(list_of_list_of_words):\n",
        "    list_of_string = []\n",
        "    for list_of_words in list_of_list_of_words:\n",
        "        string = \"\"\n",
        "        for word in list_of_words:\n",
        "            string += word + \" \"\n",
        "        list_of_string.append(string)\n",
        "    return list_of_string\n",
        "myWords = list_to_string(curatedData)\n"
      ]
    },
    {
      "cell_type": "code",
      "execution_count": null,
      "metadata": {
        "colab": {
          "base_uri": "https://localhost:8080/"
        },
        "id": "dPXxC2_91oq3",
        "outputId": "dd1720fa-b6ec-4723-ed17-c2c1a9a7fc86"
      },
      "outputs": [
        {
          "output_type": "stream",
          "name": "stdout",
          "text": [
            "['templ set on fire ', 'player triumph jumaji ', '71 receiv applaud ', 'wife jump conclus ', 'seri air juli ']\n"
          ]
        }
      ],
      "source": [
        "print(myWords[:5])"
      ]
    },
    {
      "cell_type": "code",
      "execution_count": null,
      "metadata": {
        "colab": {
          "base_uri": "https://localhost:8080/"
        },
        "id": "hPs5_hCIy52a",
        "outputId": "fca98cfd-b2f4-43e4-ffee-96a58c66f3c5"
      },
      "outputs": [
        {
          "output_type": "execute_result",
          "data": {
            "text/plain": [
              "68      youth fill with ambit \n",
              "36           sun rise in east \n",
              "54           everyon is equal \n",
              "69        film wa direct by y \n",
              "43    sandberg wa kill by him \n",
              "Name: sentence, dtype: object"
            ]
          },
          "metadata": {},
          "execution_count": 18
        }
      ],
      "source": [
        "df_data = pd.DataFrame(myWords, columns=['sentence'])\n",
        "df_data['sentence'].sample(5)"
      ]
    },
    {
      "cell_type": "code",
      "execution_count": null,
      "metadata": {
        "colab": {
          "base_uri": "https://localhost:8080/"
        },
        "id": "JoazGDwKOPha",
        "outputId": "4fa1b960-25d0-413b-d94e-941687088829"
      },
      "outputs": [
        {
          "output_type": "stream",
          "name": "stdout",
          "text": [
            "99\n"
          ]
        }
      ],
      "source": [
        "#total number of sentences\n",
        "print(len(df_data))"
      ]
    },
    {
      "cell_type": "markdown",
      "metadata": {
        "id": "7OF8_7S_2LsT"
      },
      "source": [
        "### Entities Extraction"
      ]
    },
    {
      "cell_type": "code",
      "execution_count": null,
      "metadata": {
        "id": "tuhPrDWly5oo"
      },
      "outputs": [],
      "source": [
        "def get_entities(sent):\n",
        "  ## chunk 1\n",
        "  ent1 = \"\"\n",
        "  ent2 = \"\"\n",
        "\n",
        "  prv_tok_dep = \"\"    # dependency tag of previous token in the sentence\n",
        "  prv_tok_text = \"\"   # previous token in the sentence\n",
        "\n",
        "  prefix = \"\"\n",
        "  modifier = \"\"\n",
        "\n",
        "  #############################################################\n",
        "  \n",
        "  for tok in nlp(sent):\n",
        "    ## chunk 2\n",
        "    # if token is a punctuation mark then move on to the next token\n",
        "    if tok.dep_ != \"punct\":\n",
        "      # check: token is a compound word or not\n",
        "      if tok.dep_ == \"compound\":\n",
        "        prefix = tok.text\n",
        "        # if the previous word was also a 'compound' then add the current word to it\n",
        "        if prv_tok_dep == \"compound\":\n",
        "          prefix = prv_tok_text + \" \"+ tok.text\n",
        "      \n",
        "      # check: token is a modifier or not\n",
        "      if tok.dep_.endswith(\"mod\") == True:\n",
        "        modifier = tok.text\n",
        "        # if the previous word was also a 'compound' then add the current word to it\n",
        "        if prv_tok_dep == \"compound\":\n",
        "          modifier = prv_tok_text + \" \"+ tok.text\n",
        "      \n",
        "      ## chunk 3\n",
        "      if tok.dep_.find(\"subj\") == True:\n",
        "        ent1 = modifier +\" \"+ prefix + \" \"+ tok.text\n",
        "        prefix = \"\"\n",
        "        modifier = \"\"\n",
        "        prv_tok_dep = \"\"\n",
        "        prv_tok_text = \"\"      \n",
        "\n",
        "      ## chunk 4\n",
        "      if tok.dep_.find(\"obj\") == True:\n",
        "        ent2 = modifier +\" \"+ prefix +\" \"+ tok.text\n",
        "        \n",
        "      ## chunk 5  \n",
        "      # update variables\n",
        "      prv_tok_dep = tok.dep_\n",
        "      prv_tok_text = tok.text\n",
        "  #############################################################\n",
        "\n",
        "  return [ent1.strip(), ent2.strip()]"
      ]
    },
    {
      "cell_type": "markdown",
      "metadata": {
        "id": "HKKk_R7n6nFQ"
      },
      "source": [
        "### Named Entity Recognition Rules\n",
        "Chunk 1\n",
        "\n",
        "Defined a few empty variables in this chunk. prv_tok_dep and prv_tok_text will hold the dependency tag of the previous word in the sentence and that previous word itself, respectively. prefix and modifier will hold the text that is associated with the subject or the object.\n",
        "\n",
        "Chunk 2\n",
        "\n",
        "Next, we will loop through the tokens in the sentence. We will first check if the token is a punctuation mark or not. If yes, then we will ignore it and move on to the next token. If the token is a part of a compound word (dependency tag = “compound”), we will keep it in the prefix variable. A compound word is a combination of multiple words linked to form a word with a new meaning (example – “Football Stadium”, “animal lover”).\n",
        "\n",
        "As and when we come across a subject or an object in the sentence, we will add this prefix to it. We will do the same thing with the modifier words, such as “nice shirt”, “big house”, etc.\n",
        "\n",
        "Chunk 3\n",
        "\n",
        "Here, if the token is the subject, then it will be captured as the first entity in the ent1 variable. Variables such as prefix, modifier, prv_tok_dep, and prv_tok_text will be reset.\n",
        "\n",
        "Chunk 4\n",
        "\n",
        "Here, if the token is the object, then it will be captured as the second entity in the ent2 variable. Variables such as prefix, modifier, prv_tok_dep, and prv_tok_text will again be reset.\n",
        "\n",
        "Chunk 5\n",
        "\n",
        "Once we have captured the subject and the object in the sentence, we will update the previous token and its dependency tag."
      ]
    },
    {
      "cell_type": "code",
      "execution_count": null,
      "metadata": {
        "id": "lFuNcEv8y5lJ"
      },
      "outputs": [],
      "source": [
        "entity_pairs = []\n",
        "\n",
        "for i in df_data['sentence']:\n",
        "  entity_pairs.append(get_entities(i))"
      ]
    },
    {
      "cell_type": "code",
      "execution_count": null,
      "metadata": {
        "colab": {
          "base_uri": "https://localhost:8080/"
        },
        "id": "a-wnikZv2aTL",
        "outputId": "e1fc2e09-26ec-439d-b266-b6c714de8d5c"
      },
      "outputs": [
        {
          "output_type": "execute_result",
          "data": {
            "text/plain": [
              "[['holden', ''],\n",
              " ['actor', 'mani role'],\n",
              " ['soni', 'deal'],\n",
              " ['', 'indian  kuwait'],\n",
              " ['', ''],\n",
              " ['', ''],\n",
              " ['', 'plan'],\n",
              " ['fire', 'wire'],\n",
              " ['franc', ''],\n",
              " ['', 'websit']]"
            ]
          },
          "metadata": {},
          "execution_count": 22
        }
      ],
      "source": [
        "entity_pairs[10:20]"
      ]
    },
    {
      "cell_type": "markdown",
      "metadata": {
        "id": "Qgh8_wwh3gHl"
      },
      "source": [
        "### Relations Extraction"
      ]
    },
    {
      "cell_type": "markdown",
      "metadata": {
        "id": "gfu5jU8X63j4"
      },
      "source": [
        "Our hypothesis is that the predicate is actually the main verb in a sentence.\n",
        "\n",
        "For example, in the sentence – “Sixty Hollywood musicals were released in 1929”, the verb is “released in” and this is what we are going to use as the predicate for the triple generated from this sentence.\n",
        "\n",
        "The function below is capable of capturing such predicates from the sentences. Here, I have used spaCy’s rule-based matching:"
      ]
    },
    {
      "cell_type": "code",
      "execution_count": null,
      "metadata": {
        "id": "QEgmf6Id3c0b"
      },
      "outputs": [],
      "source": [
        "def get_relation(sent):\n",
        "\n",
        "  doc = nlp(sent)\n",
        "\n",
        "  # Matcher class object \n",
        "  matcher = Matcher(nlp.vocab)\n",
        "\n",
        "  #define the pattern \n",
        "  pattern = [{'DEP':'ROOT'}, \n",
        "            {'DEP':'prep','OP':\"?\"},\n",
        "            {'DEP':'agent','OP':\"?\"},  \n",
        "            {'POS':'ADJ','OP':\"?\"}] \n",
        "            \n",
        "  matcher.add(\"matching_1\", None, pattern) \n",
        "\n",
        "  matches = matcher(doc)\n",
        "  k = len(matches) - 1\n",
        "\n",
        "  span = doc[matches[k][1]:matches[k][2]] \n",
        "\n",
        "  return(span.text)"
      ]
    },
    {
      "cell_type": "code",
      "execution_count": null,
      "metadata": {
        "id": "m9TWjpG63keK"
      },
      "outputs": [],
      "source": [
        "relations = [get_relation(i) for i in df_data['sentence']]"
      ]
    },
    {
      "cell_type": "code",
      "execution_count": null,
      "metadata": {
        "colab": {
          "base_uri": "https://localhost:8080/"
        },
        "id": "0FGEtI5G3ka6",
        "outputId": "159e1ea3-c8b3-4a09-85be-61b96b25c4c3"
      },
      "outputs": [
        {
          "output_type": "execute_result",
          "data": {
            "text/plain": [
              "goe to          3\n",
              "play            3\n",
              "ha              2\n",
              "wear            2\n",
              "made            2\n",
              "is              2\n",
              "write           2\n",
              "receiv          1\n",
              "rao             1\n",
              "debut in        1\n",
              "arriv by        1\n",
              "slaveri         1\n",
              "direct by       1\n",
              "fill with       1\n",
              "set on          1\n",
              "enemi           1\n",
              "express         1\n",
              "lee             1\n",
              "forget          1\n",
              "forgiv          1\n",
              "mother          1\n",
              "merg with       1\n",
              "speak           1\n",
              "live in         1\n",
              "is equal        1\n",
              "love            1\n",
              "wound in        1\n",
              "gain            1\n",
              "resign in       1\n",
              "sam             1\n",
              "want            1\n",
              "realli proud    1\n",
              "consum          1\n",
              "written by      1\n",
              "coupl           1\n",
              "author          1\n",
              "referenc in     1\n",
              "kennedi         1\n",
              "wrist           1\n",
              "laundri         1\n",
              "is spheric      1\n",
              "mathemat        1\n",
              "blake           1\n",
              "announc         1\n",
              "releas for      1\n",
              "simi            1\n",
              "breach          1\n",
              "is bisexu       1\n",
              "revolut         1\n",
              "lose            1\n",
              "dtype: int64"
            ]
          },
          "metadata": {},
          "execution_count": 25
        }
      ],
      "source": [
        "pd.Series(relations).value_counts()[:50]"
      ]
    },
    {
      "cell_type": "markdown",
      "metadata": {
        "id": "yuH6BXhk36eg"
      },
      "source": [
        "### Converting to Triplets"
      ]
    },
    {
      "cell_type": "code",
      "execution_count": null,
      "metadata": {
        "id": "Fm-2yhHO3kUW"
      },
      "outputs": [],
      "source": [
        "# extract subject\n",
        "source = [i[0] for i in entity_pairs]\n",
        "\n",
        "# extract object\n",
        "target = [i[1] for i in entity_pairs]\n",
        "\n",
        "#creating a list of Sentence ID and Subject and Object\n",
        "sentence_id = [\"Sentence: \"+str(i) for i in range(len(source))]\n",
        "\n",
        "kg_df = pd.DataFrame({'sentence_id':sentence_id, 'Source':source, 'Target':target, 'Relation':relations})"
      ]
    },
    {
      "cell_type": "code",
      "source": [
        "print(kg_df.shape)\n",
        "kg_df.head()"
      ],
      "metadata": {
        "colab": {
          "base_uri": "https://localhost:8080/",
          "height": 224
        },
        "id": "pKEywe9CSTMV",
        "outputId": "ee9e3320-5015-4f06-e2bd-aa00db5f7ac1"
      },
      "execution_count": null,
      "outputs": [
        {
          "output_type": "stream",
          "name": "stdout",
          "text": [
            "(99, 4)\n"
          ]
        },
        {
          "output_type": "execute_result",
          "data": {
            "text/plain": [
              "   sentence_id Source Target Relation\n",
              "0  Sentence: 0  templ   fire   set on\n",
              "1  Sentence: 1                 jumaji\n",
              "2  Sentence: 2                applaud\n",
              "3  Sentence: 3   wife         conclus\n",
              "4  Sentence: 4                   juli"
            ],
            "text/html": [
              "\n",
              "  <div id=\"df-12912bfc-18bc-4355-895a-ceac3f0d0c61\">\n",
              "    <div class=\"colab-df-container\">\n",
              "      <div>\n",
              "<style scoped>\n",
              "    .dataframe tbody tr th:only-of-type {\n",
              "        vertical-align: middle;\n",
              "    }\n",
              "\n",
              "    .dataframe tbody tr th {\n",
              "        vertical-align: top;\n",
              "    }\n",
              "\n",
              "    .dataframe thead th {\n",
              "        text-align: right;\n",
              "    }\n",
              "</style>\n",
              "<table border=\"1\" class=\"dataframe\">\n",
              "  <thead>\n",
              "    <tr style=\"text-align: right;\">\n",
              "      <th></th>\n",
              "      <th>sentence_id</th>\n",
              "      <th>Source</th>\n",
              "      <th>Target</th>\n",
              "      <th>Relation</th>\n",
              "    </tr>\n",
              "  </thead>\n",
              "  <tbody>\n",
              "    <tr>\n",
              "      <th>0</th>\n",
              "      <td>Sentence: 0</td>\n",
              "      <td>templ</td>\n",
              "      <td>fire</td>\n",
              "      <td>set on</td>\n",
              "    </tr>\n",
              "    <tr>\n",
              "      <th>1</th>\n",
              "      <td>Sentence: 1</td>\n",
              "      <td></td>\n",
              "      <td></td>\n",
              "      <td>jumaji</td>\n",
              "    </tr>\n",
              "    <tr>\n",
              "      <th>2</th>\n",
              "      <td>Sentence: 2</td>\n",
              "      <td></td>\n",
              "      <td></td>\n",
              "      <td>applaud</td>\n",
              "    </tr>\n",
              "    <tr>\n",
              "      <th>3</th>\n",
              "      <td>Sentence: 3</td>\n",
              "      <td>wife</td>\n",
              "      <td></td>\n",
              "      <td>conclus</td>\n",
              "    </tr>\n",
              "    <tr>\n",
              "      <th>4</th>\n",
              "      <td>Sentence: 4</td>\n",
              "      <td></td>\n",
              "      <td></td>\n",
              "      <td>juli</td>\n",
              "    </tr>\n",
              "  </tbody>\n",
              "</table>\n",
              "</div>\n",
              "      <button class=\"colab-df-convert\" onclick=\"convertToInteractive('df-12912bfc-18bc-4355-895a-ceac3f0d0c61')\"\n",
              "              title=\"Convert this dataframe to an interactive table.\"\n",
              "              style=\"display:none;\">\n",
              "        \n",
              "  <svg xmlns=\"http://www.w3.org/2000/svg\" height=\"24px\"viewBox=\"0 0 24 24\"\n",
              "       width=\"24px\">\n",
              "    <path d=\"M0 0h24v24H0V0z\" fill=\"none\"/>\n",
              "    <path d=\"M18.56 5.44l.94 2.06.94-2.06 2.06-.94-2.06-.94-.94-2.06-.94 2.06-2.06.94zm-11 1L8.5 8.5l.94-2.06 2.06-.94-2.06-.94L8.5 2.5l-.94 2.06-2.06.94zm10 10l.94 2.06.94-2.06 2.06-.94-2.06-.94-.94-2.06-.94 2.06-2.06.94z\"/><path d=\"M17.41 7.96l-1.37-1.37c-.4-.4-.92-.59-1.43-.59-.52 0-1.04.2-1.43.59L10.3 9.45l-7.72 7.72c-.78.78-.78 2.05 0 2.83L4 21.41c.39.39.9.59 1.41.59.51 0 1.02-.2 1.41-.59l7.78-7.78 2.81-2.81c.8-.78.8-2.07 0-2.86zM5.41 20L4 18.59l7.72-7.72 1.47 1.35L5.41 20z\"/>\n",
              "  </svg>\n",
              "      </button>\n",
              "      \n",
              "  <style>\n",
              "    .colab-df-container {\n",
              "      display:flex;\n",
              "      flex-wrap:wrap;\n",
              "      gap: 12px;\n",
              "    }\n",
              "\n",
              "    .colab-df-convert {\n",
              "      background-color: #E8F0FE;\n",
              "      border: none;\n",
              "      border-radius: 50%;\n",
              "      cursor: pointer;\n",
              "      display: none;\n",
              "      fill: #1967D2;\n",
              "      height: 32px;\n",
              "      padding: 0 0 0 0;\n",
              "      width: 32px;\n",
              "    }\n",
              "\n",
              "    .colab-df-convert:hover {\n",
              "      background-color: #E2EBFA;\n",
              "      box-shadow: 0px 1px 2px rgba(60, 64, 67, 0.3), 0px 1px 3px 1px rgba(60, 64, 67, 0.15);\n",
              "      fill: #174EA6;\n",
              "    }\n",
              "\n",
              "    [theme=dark] .colab-df-convert {\n",
              "      background-color: #3B4455;\n",
              "      fill: #D2E3FC;\n",
              "    }\n",
              "\n",
              "    [theme=dark] .colab-df-convert:hover {\n",
              "      background-color: #434B5C;\n",
              "      box-shadow: 0px 1px 3px 1px rgba(0, 0, 0, 0.15);\n",
              "      filter: drop-shadow(0px 1px 2px rgba(0, 0, 0, 0.3));\n",
              "      fill: #FFFFFF;\n",
              "    }\n",
              "  </style>\n",
              "\n",
              "      <script>\n",
              "        const buttonEl =\n",
              "          document.querySelector('#df-12912bfc-18bc-4355-895a-ceac3f0d0c61 button.colab-df-convert');\n",
              "        buttonEl.style.display =\n",
              "          google.colab.kernel.accessAllowed ? 'block' : 'none';\n",
              "\n",
              "        async function convertToInteractive(key) {\n",
              "          const element = document.querySelector('#df-12912bfc-18bc-4355-895a-ceac3f0d0c61');\n",
              "          const dataTable =\n",
              "            await google.colab.kernel.invokeFunction('convertToInteractive',\n",
              "                                                     [key], {});\n",
              "          if (!dataTable) return;\n",
              "\n",
              "          const docLinkHtml = 'Like what you see? Visit the ' +\n",
              "            '<a target=\"_blank\" href=https://colab.research.google.com/notebooks/data_table.ipynb>data table notebook</a>'\n",
              "            + ' to learn more about interactive tables.';\n",
              "          element.innerHTML = '';\n",
              "          dataTable['output_type'] = 'display_data';\n",
              "          await google.colab.output.renderOutput(dataTable, element);\n",
              "          const docLink = document.createElement('div');\n",
              "          docLink.innerHTML = docLinkHtml;\n",
              "          element.appendChild(docLink);\n",
              "        }\n",
              "      </script>\n",
              "    </div>\n",
              "  </div>\n",
              "  "
            ]
          },
          "metadata": {},
          "execution_count": 27
        }
      ]
    },
    {
      "cell_type": "code",
      "source": [
        "def getSrTrRlDataFrame(data):\n",
        "  #for each sentence in the dataset, create 3 lists source, relation, target\n",
        "  #source is the word with tag \"e-1-b\" or \"e-1-i\", target is the word with tag \"e-2-b\" or \"e-2-i\" and\n",
        "  #relation is the tag \"r-b\" or \"r-i\"\n",
        "  source = []\n",
        "  target = []\n",
        "  relation = []\n",
        "\n",
        "  #for each unique sentence in the dataset\n",
        "  for i in data.groupby(['Sentence #']):\n",
        "      #get the sentence number\n",
        "      sent_num = i[0]\n",
        "      #get the sentence\n",
        "      sent = i[1]\n",
        "      #get the number of rows in the sentence\n",
        "      n_rows = len(sent)\n",
        "      #for each row in the sentence\n",
        "      temp_source = []\n",
        "      temp_target = []\n",
        "      temp_relation = []\n",
        "      for j in range(n_rows):\n",
        "          #get the word\n",
        "          word = sent[\"Word\"].values[j]\n",
        "          #get the tag\n",
        "          tag = sent[\"Tag\"].values[j]\n",
        "          #if the tag is \"e-1-b\" or \"e-1-i\"\n",
        "          if tag == \"e-1-b\" or tag == \"e-1-i\":\n",
        "              #add the word to the source list\n",
        "              temp_source.append(word)\n",
        "          #if the tag is \"e-2-b\" or \"e-2-i\"\n",
        "          elif tag == \"e-2-b\" or tag == \"e-2-i\":\n",
        "              #add the word to the target list\n",
        "              temp_target.append(word)\n",
        "          #if the tag is \"r-b\" or \"r-i\"\n",
        "          elif tag == \"r-b\" or tag == \"r-i\":\n",
        "              #add the word to the relation list\n",
        "              temp_relation.append(word)\n",
        "      #add the source, target and relation lists to the source, target and relation lists\n",
        "      #converting list to string\n",
        "      source.append(\" \".join(temp_source))\n",
        "      target.append(\" \".join(temp_target))\n",
        "      relation.append(\" \".join(temp_relation))\n",
        "      \n",
        "      \n",
        "\n",
        "  #print the first 10 source words\n",
        "  print(\"Source words:\")\n",
        "  print(source[:10])\n",
        "  #print the first 10 target words\n",
        "  print(\"Target words:\")\n",
        "  print(target[:10])\n",
        "  #print the first 10 relation words\n",
        "  print(\"Relation words:\")\n",
        "  print(relation[:10])\n",
        "\n",
        "  #creating dataframe for source, target and relation with 3 columns\n",
        "  df = pd.DataFrame(columns=['Source', 'Target', 'Relation'], data=list(zip(source, target, relation)))\n",
        "  #print the first 10 rows of the dataframe\n",
        "  print(df.head(n=5))\n",
        "  return df"
      ],
      "metadata": {
        "id": "-huEhPCdieWt"
      },
      "execution_count": null,
      "outputs": []
    },
    {
      "cell_type": "code",
      "source": [
        ""
      ],
      "metadata": {
        "id": "uRea63jYAQ5B"
      },
      "execution_count": null,
      "outputs": []
    },
    {
      "cell_type": "code",
      "source": [
        "df = getSrTrRlDataFrame(data)"
      ],
      "metadata": {
        "colab": {
          "base_uri": "https://localhost:8080/"
        },
        "id": "zfxpdpv_nkUw",
        "outputId": "9cd169ed-1ef0-42fc-daea-e274e4252604"
      },
      "execution_count": null,
      "outputs": [
        {
          "output_type": "stream",
          "name": "stdout",
          "text": [
            "Source words:\n",
            "['templ', 'player', '71', 'wife', 'seri', 'brother', 'final sister', 'jessi', 'jessica', 'walter']\n",
            "Target words:\n",
            "['fire', 'jumaji', 'applaud', 'conclus', 'juli', 'write', 'peac', 'hous', 'owner', 'scar']\n",
            "Relation words:\n",
            "['set on', 'triumph', 'receiv', 'jump', 'air', 'passion about', 'made', 'bought', 'is', 'deserv']\n",
            "   Source   Target Relation\n",
            "0   templ     fire   set on\n",
            "1  player   jumaji  triumph\n",
            "2      71  applaud   receiv\n",
            "3    wife  conclus     jump\n",
            "4    seri     juli      air\n"
          ]
        }
      ]
    },
    {
      "cell_type": "code",
      "source": [
        "#function to compare 2 strings and return the number of matching words\n",
        "def compare_strings(str1, str2):\n",
        "    #split the strings into words\n",
        "    str1 = str1.split()\n",
        "    str2 = str2.split()\n",
        "    #initialize the count\n",
        "    count = 0\n",
        "    #for each word in the first string\n",
        "    for word in str1:\n",
        "        #if the word is in the second string\n",
        "        if word in str2:\n",
        "            #increment the count\n",
        "            count += 1\n",
        "    #return the count\n",
        "    return count\n",
        "\n",
        "def compareDF(df1, df2):\n",
        "\n",
        "  source_matches = 0\n",
        "  target_matches = 0\n",
        "  relation_matches = 0\n",
        "\n",
        "  #iterate over 2 dataframes df and kg_df and compare the source columns of both dataframes\n",
        "  for i in range(len(df1)):\n",
        "      #get the source column of the current row\n",
        "      source_i = df1.iloc[i]['Source']\n",
        "      #get the source column of the current row of kg_df\n",
        "      source_kg = df2.iloc[i]['Source']\n",
        "      #cal the compare_strings function and store the result in the source_match list\n",
        "      temp_s = compare_strings(source_i, source_kg)\n",
        "      if temp_s > 0:\n",
        "        source_matches+=1\n",
        "\n",
        "      #get the target column of the current row\n",
        "      target_i = df1.iloc[i]['Target']\n",
        "      #get the target column of the current row of df2\n",
        "      target_kg = df2.iloc[i]['Target']\n",
        "      #cal the compare_strings function and store the result in the target_match list\n",
        "      temp_t = compare_strings(target_i, target_kg)\n",
        "      if temp_t > 0:\n",
        "        target_matches+=1\n",
        "\n",
        "      #get the relation column of the current row\n",
        "      relation_i = df1.iloc[i]['Relation']\n",
        "      #get the relation column of the current row of df2\n",
        "      relation_kg = df2.iloc[i]['Relation']\n",
        "      #cal the compare_strings function and store the result in the relation_match list\n",
        "      temp_r = compare_strings(relation_i, relation_kg)\n",
        "      if temp_r > 0:\n",
        "        relation_matches+=1\n",
        "\n",
        "  #calulate percentage of matches for source, target and relation with df counts\n",
        "  source_match_percent = source_matches / len(df1)\n",
        "  target_match_percent = target_matches / len(df1)\n",
        "  relation_match_percent = relation_matches / len(df1)\n",
        "\n",
        "  #print the percentage of matches for source, target and relation\n",
        "  print(\"Percentage of matches for source: \", source_match_percent)\n",
        "  print(\"Percentage of matches for target: \", target_match_percent)\n",
        "  print(\"Percentage of matches for relation: \", relation_match_percent)\n"
      ],
      "metadata": {
        "id": "vlDi9lSllQYr"
      },
      "execution_count": null,
      "outputs": []
    },
    {
      "cell_type": "markdown",
      "source": [
        "## Calulating the Accuracy of the Rule-Based Approach with at least match:"
      ],
      "metadata": {
        "id": "sW9uf5L_YdaX"
      }
    },
    {
      "cell_type": "code",
      "source": [
        "compareDF(df, kg_df)"
      ],
      "metadata": {
        "colab": {
          "base_uri": "https://localhost:8080/"
        },
        "id": "YWbLsL3HYSp3",
        "outputId": "9ba72094-f7e2-48bf-d8d2-3dcd6f841246"
      },
      "execution_count": null,
      "outputs": [
        {
          "output_type": "stream",
          "name": "stdout",
          "text": [
            "Percentage of matches for source:  0.5454545454545454\n",
            "Percentage of matches for target:  0.5656565656565656\n",
            "Percentage of matches for relation:  0.696969696969697\n"
          ]
        }
      ]
    },
    {
      "cell_type": "code",
      "source": [
        "#replacing all '' with nan in the dataframe column Word\n",
        "kg_df['Source'] = kg_df['Source'].replace('', np.nan)\n",
        "kg_df['Target'] = kg_df['Target'].replace('', np.nan)\n",
        "kg_df['Relation'] = kg_df['Relation'].replace('', np.nan)\n",
        "print('Replaced all empty strings with nan')\n",
        "#totoal number of nan values in the kg_dfframe\n",
        "print(f'Total number of nan values: {kg_df[\"Source\"].isnull().sum()}')\n",
        "print(f'Total number of nan values: {kg_df[\"Target\"].isnull().sum()}')\n",
        "print(f'Total number of nan values: {kg_df[\"Relation\"].isnull().sum()}')\n",
        "#dropping all the nan values\n",
        "kg_df = kg_df.dropna()\n",
        "print('Dropped all nan values')\n",
        "#displaying the first 5 rows of the kg_dfframe\n",
        "kg_df.head(10)"
      ],
      "metadata": {
        "colab": {
          "base_uri": "https://localhost:8080/",
          "height": 450
        },
        "id": "qd-Moh9LT4ff",
        "outputId": "c416aae6-757b-4002-efdd-7ede766a6ace"
      },
      "execution_count": null,
      "outputs": [
        {
          "output_type": "stream",
          "name": "stdout",
          "text": [
            "Replaced all empty strings with nan\n",
            "Total number of nan values: 40\n",
            "Total number of nan values: 41\n",
            "Total number of nan values: 0\n",
            "Dropped all nan values\n"
          ]
        },
        {
          "output_type": "execute_result",
          "data": {
            "text/plain": [
              "     sentence_id         Source         Target Relation\n",
              "0    Sentence: 0          templ           fire   set on\n",
              "6    Sentence: 6  final  sister           peac     made\n",
              "11  Sentence: 11          actor      mani role     play\n",
              "12  Sentence: 12           soni           deal     made\n",
              "17  Sentence: 17           fire           wire     burn\n",
              "20  Sentence: 20           noth            thi     stop\n",
              "21  Sentence: 21           ndtv             it     rate\n",
              "23  Sentence: 23         canada  champhionship      won\n",
              "25  Sentence: 25             it           sync   wa out\n",
              "26  Sentence: 26            she          power       ha"
            ],
            "text/html": [
              "\n",
              "  <div id=\"df-631462ed-f5a2-49a7-87c9-d75f5736b891\">\n",
              "    <div class=\"colab-df-container\">\n",
              "      <div>\n",
              "<style scoped>\n",
              "    .dataframe tbody tr th:only-of-type {\n",
              "        vertical-align: middle;\n",
              "    }\n",
              "\n",
              "    .dataframe tbody tr th {\n",
              "        vertical-align: top;\n",
              "    }\n",
              "\n",
              "    .dataframe thead th {\n",
              "        text-align: right;\n",
              "    }\n",
              "</style>\n",
              "<table border=\"1\" class=\"dataframe\">\n",
              "  <thead>\n",
              "    <tr style=\"text-align: right;\">\n",
              "      <th></th>\n",
              "      <th>sentence_id</th>\n",
              "      <th>Source</th>\n",
              "      <th>Target</th>\n",
              "      <th>Relation</th>\n",
              "    </tr>\n",
              "  </thead>\n",
              "  <tbody>\n",
              "    <tr>\n",
              "      <th>0</th>\n",
              "      <td>Sentence: 0</td>\n",
              "      <td>templ</td>\n",
              "      <td>fire</td>\n",
              "      <td>set on</td>\n",
              "    </tr>\n",
              "    <tr>\n",
              "      <th>6</th>\n",
              "      <td>Sentence: 6</td>\n",
              "      <td>final  sister</td>\n",
              "      <td>peac</td>\n",
              "      <td>made</td>\n",
              "    </tr>\n",
              "    <tr>\n",
              "      <th>11</th>\n",
              "      <td>Sentence: 11</td>\n",
              "      <td>actor</td>\n",
              "      <td>mani role</td>\n",
              "      <td>play</td>\n",
              "    </tr>\n",
              "    <tr>\n",
              "      <th>12</th>\n",
              "      <td>Sentence: 12</td>\n",
              "      <td>soni</td>\n",
              "      <td>deal</td>\n",
              "      <td>made</td>\n",
              "    </tr>\n",
              "    <tr>\n",
              "      <th>17</th>\n",
              "      <td>Sentence: 17</td>\n",
              "      <td>fire</td>\n",
              "      <td>wire</td>\n",
              "      <td>burn</td>\n",
              "    </tr>\n",
              "    <tr>\n",
              "      <th>20</th>\n",
              "      <td>Sentence: 20</td>\n",
              "      <td>noth</td>\n",
              "      <td>thi</td>\n",
              "      <td>stop</td>\n",
              "    </tr>\n",
              "    <tr>\n",
              "      <th>21</th>\n",
              "      <td>Sentence: 21</td>\n",
              "      <td>ndtv</td>\n",
              "      <td>it</td>\n",
              "      <td>rate</td>\n",
              "    </tr>\n",
              "    <tr>\n",
              "      <th>23</th>\n",
              "      <td>Sentence: 23</td>\n",
              "      <td>canada</td>\n",
              "      <td>champhionship</td>\n",
              "      <td>won</td>\n",
              "    </tr>\n",
              "    <tr>\n",
              "      <th>25</th>\n",
              "      <td>Sentence: 25</td>\n",
              "      <td>it</td>\n",
              "      <td>sync</td>\n",
              "      <td>wa out</td>\n",
              "    </tr>\n",
              "    <tr>\n",
              "      <th>26</th>\n",
              "      <td>Sentence: 26</td>\n",
              "      <td>she</td>\n",
              "      <td>power</td>\n",
              "      <td>ha</td>\n",
              "    </tr>\n",
              "  </tbody>\n",
              "</table>\n",
              "</div>\n",
              "      <button class=\"colab-df-convert\" onclick=\"convertToInteractive('df-631462ed-f5a2-49a7-87c9-d75f5736b891')\"\n",
              "              title=\"Convert this dataframe to an interactive table.\"\n",
              "              style=\"display:none;\">\n",
              "        \n",
              "  <svg xmlns=\"http://www.w3.org/2000/svg\" height=\"24px\"viewBox=\"0 0 24 24\"\n",
              "       width=\"24px\">\n",
              "    <path d=\"M0 0h24v24H0V0z\" fill=\"none\"/>\n",
              "    <path d=\"M18.56 5.44l.94 2.06.94-2.06 2.06-.94-2.06-.94-.94-2.06-.94 2.06-2.06.94zm-11 1L8.5 8.5l.94-2.06 2.06-.94-2.06-.94L8.5 2.5l-.94 2.06-2.06.94zm10 10l.94 2.06.94-2.06 2.06-.94-2.06-.94-.94-2.06-.94 2.06-2.06.94z\"/><path d=\"M17.41 7.96l-1.37-1.37c-.4-.4-.92-.59-1.43-.59-.52 0-1.04.2-1.43.59L10.3 9.45l-7.72 7.72c-.78.78-.78 2.05 0 2.83L4 21.41c.39.39.9.59 1.41.59.51 0 1.02-.2 1.41-.59l7.78-7.78 2.81-2.81c.8-.78.8-2.07 0-2.86zM5.41 20L4 18.59l7.72-7.72 1.47 1.35L5.41 20z\"/>\n",
              "  </svg>\n",
              "      </button>\n",
              "      \n",
              "  <style>\n",
              "    .colab-df-container {\n",
              "      display:flex;\n",
              "      flex-wrap:wrap;\n",
              "      gap: 12px;\n",
              "    }\n",
              "\n",
              "    .colab-df-convert {\n",
              "      background-color: #E8F0FE;\n",
              "      border: none;\n",
              "      border-radius: 50%;\n",
              "      cursor: pointer;\n",
              "      display: none;\n",
              "      fill: #1967D2;\n",
              "      height: 32px;\n",
              "      padding: 0 0 0 0;\n",
              "      width: 32px;\n",
              "    }\n",
              "\n",
              "    .colab-df-convert:hover {\n",
              "      background-color: #E2EBFA;\n",
              "      box-shadow: 0px 1px 2px rgba(60, 64, 67, 0.3), 0px 1px 3px 1px rgba(60, 64, 67, 0.15);\n",
              "      fill: #174EA6;\n",
              "    }\n",
              "\n",
              "    [theme=dark] .colab-df-convert {\n",
              "      background-color: #3B4455;\n",
              "      fill: #D2E3FC;\n",
              "    }\n",
              "\n",
              "    [theme=dark] .colab-df-convert:hover {\n",
              "      background-color: #434B5C;\n",
              "      box-shadow: 0px 1px 3px 1px rgba(0, 0, 0, 0.15);\n",
              "      filter: drop-shadow(0px 1px 2px rgba(0, 0, 0, 0.3));\n",
              "      fill: #FFFFFF;\n",
              "    }\n",
              "  </style>\n",
              "\n",
              "      <script>\n",
              "        const buttonEl =\n",
              "          document.querySelector('#df-631462ed-f5a2-49a7-87c9-d75f5736b891 button.colab-df-convert');\n",
              "        buttonEl.style.display =\n",
              "          google.colab.kernel.accessAllowed ? 'block' : 'none';\n",
              "\n",
              "        async function convertToInteractive(key) {\n",
              "          const element = document.querySelector('#df-631462ed-f5a2-49a7-87c9-d75f5736b891');\n",
              "          const dataTable =\n",
              "            await google.colab.kernel.invokeFunction('convertToInteractive',\n",
              "                                                     [key], {});\n",
              "          if (!dataTable) return;\n",
              "\n",
              "          const docLinkHtml = 'Like what you see? Visit the ' +\n",
              "            '<a target=\"_blank\" href=https://colab.research.google.com/notebooks/data_table.ipynb>data table notebook</a>'\n",
              "            + ' to learn more about interactive tables.';\n",
              "          element.innerHTML = '';\n",
              "          dataTable['output_type'] = 'display_data';\n",
              "          await google.colab.output.renderOutput(dataTable, element);\n",
              "          const docLink = document.createElement('div');\n",
              "          docLink.innerHTML = docLinkHtml;\n",
              "          element.appendChild(docLink);\n",
              "        }\n",
              "      </script>\n",
              "    </div>\n",
              "  </div>\n",
              "  "
            ]
          },
          "metadata": {},
          "execution_count": 32
        }
      ]
    },
    {
      "cell_type": "code",
      "source": [
        "kg_df.shape"
      ],
      "metadata": {
        "colab": {
          "base_uri": "https://localhost:8080/"
        },
        "id": "0q8M-NUZUdhg",
        "outputId": "1974cded-fbf5-424b-f888-3e0ae50b23e3"
      },
      "execution_count": null,
      "outputs": [
        {
          "output_type": "execute_result",
          "data": {
            "text/plain": [
              "(42, 4)"
            ]
          },
          "metadata": {},
          "execution_count": 33
        }
      ]
    },
    {
      "cell_type": "markdown",
      "metadata": {
        "id": "lZMNe_3IOPhd"
      },
      "source": [
        "## Calulating the Accuracy of the Rule-Based Approach with full match"
      ]
    },
    {
      "cell_type": "code",
      "execution_count": null,
      "metadata": {
        "id": "pCv0uKkeOPhe"
      },
      "outputs": [],
      "source": [
        "#calculate percentage of matches over data dataframe size\n",
        "percentage_of_matches = (kg_df.shape[0]/len(df))*100"
      ]
    },
    {
      "cell_type": "code",
      "source": [
        "print(\"Accuracy is: \" + str(percentage_of_matches))"
      ],
      "metadata": {
        "colab": {
          "base_uri": "https://localhost:8080/"
        },
        "id": "pLgEapjxRXPf",
        "outputId": "d15b9e00-406c-4dc9-e296-ec5d01f1e181"
      },
      "execution_count": null,
      "outputs": [
        {
          "output_type": "stream",
          "name": "stdout",
          "text": [
            "Accuracy is: 42.42424242424242\n"
          ]
        }
      ]
    },
    {
      "cell_type": "markdown",
      "source": [
        "## Calculation Model Prediction"
      ],
      "metadata": {
        "id": "9K3udZDDAdGO"
      }
    },
    {
      "cell_type": "code",
      "source": [
        "abs_1_org = pd.read_csv('RNN Model_6_Pred_Abs_2.csv')\n",
        "preLen = len(abs_1_org)\n",
        "print(preLen)\n",
        "abs_1_org.head()"
      ],
      "metadata": {
        "colab": {
          "base_uri": "https://localhost:8080/",
          "height": 224
        },
        "id": "YRzu6gVVB1OE",
        "outputId": "bd26958e-068f-4d3f-d94c-0982bf40b533"
      },
      "execution_count": null,
      "outputs": [
        {
          "output_type": "stream",
          "name": "stdout",
          "text": [
            "576\n"
          ]
        },
        {
          "output_type": "execute_result",
          "data": {
            "text/plain": [
              "   Unnamed: 0  Sentence #       Word    Tag   Pred\n",
              "0           0           0  christian  e-1-b    r-i\n",
              "1           1           0    paralyz    r-b  e-2-i\n",
              "2           2           0         by    r-i  e-1-b\n",
              "3           3           0      accid  e-2-b      o\n",
              "4           4           1      mauro  e-1-b  e-1-b"
            ],
            "text/html": [
              "\n",
              "  <div id=\"df-e98b58ae-c3a9-4ff4-974a-768828a01923\">\n",
              "    <div class=\"colab-df-container\">\n",
              "      <div>\n",
              "<style scoped>\n",
              "    .dataframe tbody tr th:only-of-type {\n",
              "        vertical-align: middle;\n",
              "    }\n",
              "\n",
              "    .dataframe tbody tr th {\n",
              "        vertical-align: top;\n",
              "    }\n",
              "\n",
              "    .dataframe thead th {\n",
              "        text-align: right;\n",
              "    }\n",
              "</style>\n",
              "<table border=\"1\" class=\"dataframe\">\n",
              "  <thead>\n",
              "    <tr style=\"text-align: right;\">\n",
              "      <th></th>\n",
              "      <th>Unnamed: 0</th>\n",
              "      <th>Sentence #</th>\n",
              "      <th>Word</th>\n",
              "      <th>Tag</th>\n",
              "      <th>Pred</th>\n",
              "    </tr>\n",
              "  </thead>\n",
              "  <tbody>\n",
              "    <tr>\n",
              "      <th>0</th>\n",
              "      <td>0</td>\n",
              "      <td>0</td>\n",
              "      <td>christian</td>\n",
              "      <td>e-1-b</td>\n",
              "      <td>r-i</td>\n",
              "    </tr>\n",
              "    <tr>\n",
              "      <th>1</th>\n",
              "      <td>1</td>\n",
              "      <td>0</td>\n",
              "      <td>paralyz</td>\n",
              "      <td>r-b</td>\n",
              "      <td>e-2-i</td>\n",
              "    </tr>\n",
              "    <tr>\n",
              "      <th>2</th>\n",
              "      <td>2</td>\n",
              "      <td>0</td>\n",
              "      <td>by</td>\n",
              "      <td>r-i</td>\n",
              "      <td>e-1-b</td>\n",
              "    </tr>\n",
              "    <tr>\n",
              "      <th>3</th>\n",
              "      <td>3</td>\n",
              "      <td>0</td>\n",
              "      <td>accid</td>\n",
              "      <td>e-2-b</td>\n",
              "      <td>o</td>\n",
              "    </tr>\n",
              "    <tr>\n",
              "      <th>4</th>\n",
              "      <td>4</td>\n",
              "      <td>1</td>\n",
              "      <td>mauro</td>\n",
              "      <td>e-1-b</td>\n",
              "      <td>e-1-b</td>\n",
              "    </tr>\n",
              "  </tbody>\n",
              "</table>\n",
              "</div>\n",
              "      <button class=\"colab-df-convert\" onclick=\"convertToInteractive('df-e98b58ae-c3a9-4ff4-974a-768828a01923')\"\n",
              "              title=\"Convert this dataframe to an interactive table.\"\n",
              "              style=\"display:none;\">\n",
              "        \n",
              "  <svg xmlns=\"http://www.w3.org/2000/svg\" height=\"24px\"viewBox=\"0 0 24 24\"\n",
              "       width=\"24px\">\n",
              "    <path d=\"M0 0h24v24H0V0z\" fill=\"none\"/>\n",
              "    <path d=\"M18.56 5.44l.94 2.06.94-2.06 2.06-.94-2.06-.94-.94-2.06-.94 2.06-2.06.94zm-11 1L8.5 8.5l.94-2.06 2.06-.94-2.06-.94L8.5 2.5l-.94 2.06-2.06.94zm10 10l.94 2.06.94-2.06 2.06-.94-2.06-.94-.94-2.06-.94 2.06-2.06.94z\"/><path d=\"M17.41 7.96l-1.37-1.37c-.4-.4-.92-.59-1.43-.59-.52 0-1.04.2-1.43.59L10.3 9.45l-7.72 7.72c-.78.78-.78 2.05 0 2.83L4 21.41c.39.39.9.59 1.41.59.51 0 1.02-.2 1.41-.59l7.78-7.78 2.81-2.81c.8-.78.8-2.07 0-2.86zM5.41 20L4 18.59l7.72-7.72 1.47 1.35L5.41 20z\"/>\n",
              "  </svg>\n",
              "      </button>\n",
              "      \n",
              "  <style>\n",
              "    .colab-df-container {\n",
              "      display:flex;\n",
              "      flex-wrap:wrap;\n",
              "      gap: 12px;\n",
              "    }\n",
              "\n",
              "    .colab-df-convert {\n",
              "      background-color: #E8F0FE;\n",
              "      border: none;\n",
              "      border-radius: 50%;\n",
              "      cursor: pointer;\n",
              "      display: none;\n",
              "      fill: #1967D2;\n",
              "      height: 32px;\n",
              "      padding: 0 0 0 0;\n",
              "      width: 32px;\n",
              "    }\n",
              "\n",
              "    .colab-df-convert:hover {\n",
              "      background-color: #E2EBFA;\n",
              "      box-shadow: 0px 1px 2px rgba(60, 64, 67, 0.3), 0px 1px 3px 1px rgba(60, 64, 67, 0.15);\n",
              "      fill: #174EA6;\n",
              "    }\n",
              "\n",
              "    [theme=dark] .colab-df-convert {\n",
              "      background-color: #3B4455;\n",
              "      fill: #D2E3FC;\n",
              "    }\n",
              "\n",
              "    [theme=dark] .colab-df-convert:hover {\n",
              "      background-color: #434B5C;\n",
              "      box-shadow: 0px 1px 3px 1px rgba(0, 0, 0, 0.15);\n",
              "      filter: drop-shadow(0px 1px 2px rgba(0, 0, 0, 0.3));\n",
              "      fill: #FFFFFF;\n",
              "    }\n",
              "  </style>\n",
              "\n",
              "      <script>\n",
              "        const buttonEl =\n",
              "          document.querySelector('#df-e98b58ae-c3a9-4ff4-974a-768828a01923 button.colab-df-convert');\n",
              "        buttonEl.style.display =\n",
              "          google.colab.kernel.accessAllowed ? 'block' : 'none';\n",
              "\n",
              "        async function convertToInteractive(key) {\n",
              "          const element = document.querySelector('#df-e98b58ae-c3a9-4ff4-974a-768828a01923');\n",
              "          const dataTable =\n",
              "            await google.colab.kernel.invokeFunction('convertToInteractive',\n",
              "                                                     [key], {});\n",
              "          if (!dataTable) return;\n",
              "\n",
              "          const docLinkHtml = 'Like what you see? Visit the ' +\n",
              "            '<a target=\"_blank\" href=https://colab.research.google.com/notebooks/data_table.ipynb>data table notebook</a>'\n",
              "            + ' to learn more about interactive tables.';\n",
              "          element.innerHTML = '';\n",
              "          dataTable['output_type'] = 'display_data';\n",
              "          await google.colab.output.renderOutput(dataTable, element);\n",
              "          const docLink = document.createElement('div');\n",
              "          docLink.innerHTML = docLinkHtml;\n",
              "          element.appendChild(docLink);\n",
              "        }\n",
              "      </script>\n",
              "    </div>\n",
              "  </div>\n",
              "  "
            ]
          },
          "metadata": {},
          "execution_count": 48
        }
      ]
    },
    {
      "cell_type": "code",
      "source": [
        "tempDF = pd.DataFrame()\n",
        "def que(x):\n",
        "    if x['Tag'] == x['Pred']:\n",
        "        return 1\n",
        "    return np.nan\n",
        "tempDF['que'] = abs_1_org.apply(que, axis=1)\n",
        "tempDF = tempDF.dropna()\n",
        "len_after_drop = len(tempDF)\n",
        "print(len_after_drop)\n",
        "tempDF.head()"
      ],
      "metadata": {
        "colab": {
          "base_uri": "https://localhost:8080/",
          "height": 224
        },
        "id": "jTJfYF9eGq7X",
        "outputId": "f20664c2-8c20-4d42-c96f-b323ff5cde77"
      },
      "execution_count": null,
      "outputs": [
        {
          "output_type": "stream",
          "name": "stdout",
          "text": [
            "82\n"
          ]
        },
        {
          "output_type": "execute_result",
          "data": {
            "text/plain": [
              "    que\n",
              "4   1.0\n",
              "7   1.0\n",
              "8   1.0\n",
              "11  1.0\n",
              "22  1.0"
            ],
            "text/html": [
              "\n",
              "  <div id=\"df-9da60498-2f19-4e06-8e30-167e89aeff18\">\n",
              "    <div class=\"colab-df-container\">\n",
              "      <div>\n",
              "<style scoped>\n",
              "    .dataframe tbody tr th:only-of-type {\n",
              "        vertical-align: middle;\n",
              "    }\n",
              "\n",
              "    .dataframe tbody tr th {\n",
              "        vertical-align: top;\n",
              "    }\n",
              "\n",
              "    .dataframe thead th {\n",
              "        text-align: right;\n",
              "    }\n",
              "</style>\n",
              "<table border=\"1\" class=\"dataframe\">\n",
              "  <thead>\n",
              "    <tr style=\"text-align: right;\">\n",
              "      <th></th>\n",
              "      <th>que</th>\n",
              "    </tr>\n",
              "  </thead>\n",
              "  <tbody>\n",
              "    <tr>\n",
              "      <th>4</th>\n",
              "      <td>1.0</td>\n",
              "    </tr>\n",
              "    <tr>\n",
              "      <th>7</th>\n",
              "      <td>1.0</td>\n",
              "    </tr>\n",
              "    <tr>\n",
              "      <th>8</th>\n",
              "      <td>1.0</td>\n",
              "    </tr>\n",
              "    <tr>\n",
              "      <th>11</th>\n",
              "      <td>1.0</td>\n",
              "    </tr>\n",
              "    <tr>\n",
              "      <th>22</th>\n",
              "      <td>1.0</td>\n",
              "    </tr>\n",
              "  </tbody>\n",
              "</table>\n",
              "</div>\n",
              "      <button class=\"colab-df-convert\" onclick=\"convertToInteractive('df-9da60498-2f19-4e06-8e30-167e89aeff18')\"\n",
              "              title=\"Convert this dataframe to an interactive table.\"\n",
              "              style=\"display:none;\">\n",
              "        \n",
              "  <svg xmlns=\"http://www.w3.org/2000/svg\" height=\"24px\"viewBox=\"0 0 24 24\"\n",
              "       width=\"24px\">\n",
              "    <path d=\"M0 0h24v24H0V0z\" fill=\"none\"/>\n",
              "    <path d=\"M18.56 5.44l.94 2.06.94-2.06 2.06-.94-2.06-.94-.94-2.06-.94 2.06-2.06.94zm-11 1L8.5 8.5l.94-2.06 2.06-.94-2.06-.94L8.5 2.5l-.94 2.06-2.06.94zm10 10l.94 2.06.94-2.06 2.06-.94-2.06-.94-.94-2.06-.94 2.06-2.06.94z\"/><path d=\"M17.41 7.96l-1.37-1.37c-.4-.4-.92-.59-1.43-.59-.52 0-1.04.2-1.43.59L10.3 9.45l-7.72 7.72c-.78.78-.78 2.05 0 2.83L4 21.41c.39.39.9.59 1.41.59.51 0 1.02-.2 1.41-.59l7.78-7.78 2.81-2.81c.8-.78.8-2.07 0-2.86zM5.41 20L4 18.59l7.72-7.72 1.47 1.35L5.41 20z\"/>\n",
              "  </svg>\n",
              "      </button>\n",
              "      \n",
              "  <style>\n",
              "    .colab-df-container {\n",
              "      display:flex;\n",
              "      flex-wrap:wrap;\n",
              "      gap: 12px;\n",
              "    }\n",
              "\n",
              "    .colab-df-convert {\n",
              "      background-color: #E8F0FE;\n",
              "      border: none;\n",
              "      border-radius: 50%;\n",
              "      cursor: pointer;\n",
              "      display: none;\n",
              "      fill: #1967D2;\n",
              "      height: 32px;\n",
              "      padding: 0 0 0 0;\n",
              "      width: 32px;\n",
              "    }\n",
              "\n",
              "    .colab-df-convert:hover {\n",
              "      background-color: #E2EBFA;\n",
              "      box-shadow: 0px 1px 2px rgba(60, 64, 67, 0.3), 0px 1px 3px 1px rgba(60, 64, 67, 0.15);\n",
              "      fill: #174EA6;\n",
              "    }\n",
              "\n",
              "    [theme=dark] .colab-df-convert {\n",
              "      background-color: #3B4455;\n",
              "      fill: #D2E3FC;\n",
              "    }\n",
              "\n",
              "    [theme=dark] .colab-df-convert:hover {\n",
              "      background-color: #434B5C;\n",
              "      box-shadow: 0px 1px 3px 1px rgba(0, 0, 0, 0.15);\n",
              "      filter: drop-shadow(0px 1px 2px rgba(0, 0, 0, 0.3));\n",
              "      fill: #FFFFFF;\n",
              "    }\n",
              "  </style>\n",
              "\n",
              "      <script>\n",
              "        const buttonEl =\n",
              "          document.querySelector('#df-9da60498-2f19-4e06-8e30-167e89aeff18 button.colab-df-convert');\n",
              "        buttonEl.style.display =\n",
              "          google.colab.kernel.accessAllowed ? 'block' : 'none';\n",
              "\n",
              "        async function convertToInteractive(key) {\n",
              "          const element = document.querySelector('#df-9da60498-2f19-4e06-8e30-167e89aeff18');\n",
              "          const dataTable =\n",
              "            await google.colab.kernel.invokeFunction('convertToInteractive',\n",
              "                                                     [key], {});\n",
              "          if (!dataTable) return;\n",
              "\n",
              "          const docLinkHtml = 'Like what you see? Visit the ' +\n",
              "            '<a target=\"_blank\" href=https://colab.research.google.com/notebooks/data_table.ipynb>data table notebook</a>'\n",
              "            + ' to learn more about interactive tables.';\n",
              "          element.innerHTML = '';\n",
              "          dataTable['output_type'] = 'display_data';\n",
              "          await google.colab.output.renderOutput(dataTable, element);\n",
              "          const docLink = document.createElement('div');\n",
              "          docLink.innerHTML = docLinkHtml;\n",
              "          element.appendChild(docLink);\n",
              "        }\n",
              "      </script>\n",
              "    </div>\n",
              "  </div>\n",
              "  "
            ]
          },
          "metadata": {},
          "execution_count": 49
        }
      ]
    },
    {
      "cell_type": "code",
      "source": [
        "#Tag Wise Accuracy\n",
        "print((len_after_drop/preLen)*100)"
      ],
      "metadata": {
        "colab": {
          "base_uri": "https://localhost:8080/"
        },
        "id": "7UT3kFzdHgE-",
        "outputId": "ae55f048-a288-4228-c5fd-63a6dd686a73"
      },
      "execution_count": null,
      "outputs": [
        {
          "output_type": "stream",
          "name": "stdout",
          "text": [
            "14.23611111111111\n"
          ]
        }
      ]
    },
    {
      "cell_type": "code",
      "source": [
        "try:\n",
        "  abs_1_org.drop(['Unnamed: 0', 'Pred'], axis=1, inplace=True)\n",
        "except:\n",
        "  abs_1_org.drop(['Pred'], axis=1, inplace=True)\n",
        "print(abs_1_org.head())\n",
        "print(abs_1_org.shape)"
      ],
      "metadata": {
        "colab": {
          "base_uri": "https://localhost:8080/"
        },
        "id": "taKFf4KjGqmK",
        "outputId": "3d8b4fa5-9cdb-4fa3-a999-540674a73619"
      },
      "execution_count": null,
      "outputs": [
        {
          "output_type": "stream",
          "name": "stdout",
          "text": [
            "   Sentence #       Word    Tag\n",
            "0           0  christian  e-1-b\n",
            "1           0    paralyz    r-b\n",
            "2           0         by    r-i\n",
            "3           0      accid  e-2-b\n",
            "4           1      mauro  e-1-b\n",
            "(576, 3)\n"
          ]
        }
      ]
    },
    {
      "cell_type": "code",
      "source": [
        "abs_1_pred = pd.read_csv('RNN Model_6_Pred_Abs_2.csv')\n",
        "try:\n",
        "  abs_1_pred.drop(['Unnamed: 0', 'Tag'], axis=1, inplace=True)\n",
        "except:\n",
        "  abs_1_pred.drop(['Tag'], axis=1, inplace=True)\n",
        "\n",
        "abs_1_pred.rename(columns={'Pred': 'Tag'}, inplace=True)\n",
        "print(abs_1_pred.head())\n",
        "print(abs_1_pred.shape)"
      ],
      "metadata": {
        "colab": {
          "base_uri": "https://localhost:8080/"
        },
        "id": "q6277alwAm0X",
        "outputId": "23ed0e92-7441-4d96-c341-8c5dda2f405c"
      },
      "execution_count": null,
      "outputs": [
        {
          "output_type": "stream",
          "name": "stdout",
          "text": [
            "   Sentence #       Word    Tag\n",
            "0           0  christian    r-i\n",
            "1           0    paralyz  e-2-i\n",
            "2           0         by  e-1-b\n",
            "3           0      accid      o\n",
            "4           1      mauro  e-1-b\n",
            "(576, 3)\n"
          ]
        }
      ]
    },
    {
      "cell_type": "code",
      "source": [
        "abs_1_org_kg = getSrTrRlDataFrame(abs_1_org)\n",
        "abs_1_pred_kg = getSrTrRlDataFrame(abs_1_pred)"
      ],
      "metadata": {
        "colab": {
          "base_uri": "https://localhost:8080/"
        },
        "id": "sw6rx3-yAx5b",
        "outputId": "90c83812-6447-4dbb-985e-7b5950669e84"
      },
      "execution_count": null,
      "outputs": [
        {
          "output_type": "stream",
          "name": "stdout",
          "text": [
            "Source words:\n",
            "['christian', 'mauro fior', 'sifi categori', 'holiday horror', 'hemsworth', 'side effect', 'mani horror film', 'film', 'soundtrack', 'album']\n",
            "Target words:\n",
            "['accid', 'cinematograph', 'fantasi genr', 'horror event', 'fame', 'sleepless', 'great social controversi', 'octob', 'june 7', 'august 2']\n",
            "Relation words:\n",
            "['paralyz by', 'serv as', 'fuse', 'depict', 'gain', 'is', 'creat', 'complet by', 'releas digit', 'releas digit']\n",
            "           Source         Target    Relation\n",
            "0       christian          accid  paralyz by\n",
            "1      mauro fior  cinematograph     serv as\n",
            "2   sifi categori   fantasi genr        fuse\n",
            "3  holiday horror   horror event      depict\n",
            "4       hemsworth           fame        gain\n",
            "Source words:\n",
            "['by', 'mauro serv', 'categori genr', '', 'hemsworth', 'one side is', 'mani film great controversi', '', '', '']\n",
            "Target words:\n",
            "['paralyz', 'cinematograph', 'fuse', 'holiday horror event', 'gain fame hi appear thor', '', '', 'complet by', 'releas digit', 'releas digit']\n",
            "Relation words:\n",
            "['christian', 'fior as', 'sifi fantasi', 'depict horror', '', 'notic effect sleepless', 'horror creat social', 'film octob', 'soundtrack june 7', 'album august 2']\n",
            "          Source                    Target       Relation\n",
            "0             by                   paralyz      christian\n",
            "1     mauro serv             cinematograph        fior as\n",
            "2  categori genr                      fuse   sifi fantasi\n",
            "3                     holiday horror event  depict horror\n",
            "4      hemsworth  gain fame hi appear thor               \n"
          ]
        }
      ]
    },
    {
      "cell_type": "code",
      "source": [
        "print(abs_1_org_kg.shape)\n",
        "print(abs_1_pred_kg.shape)"
      ],
      "metadata": {
        "colab": {
          "base_uri": "https://localhost:8080/"
        },
        "id": "NX_2KkRRDoOM",
        "outputId": "5634c303-c0ff-40b0-dc6f-b861d2c24847"
      },
      "execution_count": null,
      "outputs": [
        {
          "output_type": "stream",
          "name": "stdout",
          "text": [
            "(104, 3)\n",
            "(104, 3)\n"
          ]
        }
      ]
    },
    {
      "cell_type": "code",
      "source": [
        "compareDF(abs_1_org_kg, abs_1_pred_kg)"
      ],
      "metadata": {
        "colab": {
          "base_uri": "https://localhost:8080/"
        },
        "id": "lJAnnsiVCJzN",
        "outputId": "549525b0-8cd1-4e07-d8d7-a836c6960ad8"
      },
      "execution_count": null,
      "outputs": [
        {
          "output_type": "stream",
          "name": "stdout",
          "text": [
            "Percentage of matches for source:  0.38461538461538464\n",
            "Percentage of matches for target:  0.41346153846153844\n",
            "Percentage of matches for relation:  0.4326923076923077\n"
          ]
        }
      ]
    },
    {
      "cell_type": "code",
      "source": [
        "#replacing all '' with nan in the dataframe column Word\n",
        "abs_1_pred_kg['Source'] = abs_1_pred_kg['Source'].replace('', np.nan)\n",
        "abs_1_pred_kg['Target'] = abs_1_pred_kg['Target'].replace('', np.nan)\n",
        "abs_1_pred_kg['Relation'] = abs_1_pred_kg['Relation'].replace('', np.nan)\n",
        "print('Replaced all empty strings with nan')\n",
        "#totoal number of nan values in the abs_1_pred_kgframe\n",
        "print(f'Total number of nan values: {abs_1_pred_kg[\"Source\"].isnull().sum()}')\n",
        "print(f'Total number of nan values: {abs_1_pred_kg[\"Target\"].isnull().sum()}')\n",
        "print(f'Total number of nan values: {abs_1_pred_kg[\"Relation\"].isnull().sum()}')\n",
        "#dropping all the nan values\n",
        "abs_1_pred_kg = abs_1_pred_kg.dropna()\n",
        "print('Dropped all nan values')\n",
        "#displaying the first 5 rows of the abs_1_pred_kgframe\n",
        "abs_1_pred_kg.head(10)"
      ],
      "metadata": {
        "colab": {
          "base_uri": "https://localhost:8080/",
          "height": 450
        },
        "outputId": "6365540d-6c5b-48a5-f405-5045866abcc9",
        "id": "NcIXw4GsAhPN"
      },
      "execution_count": null,
      "outputs": [
        {
          "output_type": "stream",
          "name": "stdout",
          "text": [
            "Replaced all empty strings with nan\n",
            "Total number of nan values: 27\n",
            "Total number of nan values: 8\n",
            "Total number of nan values: 11\n",
            "Dropped all nan values\n"
          ]
        },
        {
          "output_type": "execute_result",
          "data": {
            "text/plain": [
              "           Source         Target               Relation\n",
              "0              by        paralyz              christian\n",
              "1      mauro serv  cinematograph                fior as\n",
              "2   categori genr           fuse           sifi fantasi\n",
              "10   distribut by    film pictur            walt disney\n",
              "11       approach        employe  vivienn graham former\n",
              "12           play      joe older              morton as\n",
              "14      treatment       research                 discov\n",
              "17       stuntman         replac                  actor\n",
              "18         poster    main releas                  onlin\n",
              "19             wa   home on june               8th 2018"
            ],
            "text/html": [
              "\n",
              "  <div id=\"df-afc66eef-6bd5-4afb-a250-bada78b4701c\">\n",
              "    <div class=\"colab-df-container\">\n",
              "      <div>\n",
              "<style scoped>\n",
              "    .dataframe tbody tr th:only-of-type {\n",
              "        vertical-align: middle;\n",
              "    }\n",
              "\n",
              "    .dataframe tbody tr th {\n",
              "        vertical-align: top;\n",
              "    }\n",
              "\n",
              "    .dataframe thead th {\n",
              "        text-align: right;\n",
              "    }\n",
              "</style>\n",
              "<table border=\"1\" class=\"dataframe\">\n",
              "  <thead>\n",
              "    <tr style=\"text-align: right;\">\n",
              "      <th></th>\n",
              "      <th>Source</th>\n",
              "      <th>Target</th>\n",
              "      <th>Relation</th>\n",
              "    </tr>\n",
              "  </thead>\n",
              "  <tbody>\n",
              "    <tr>\n",
              "      <th>0</th>\n",
              "      <td>by</td>\n",
              "      <td>paralyz</td>\n",
              "      <td>christian</td>\n",
              "    </tr>\n",
              "    <tr>\n",
              "      <th>1</th>\n",
              "      <td>mauro serv</td>\n",
              "      <td>cinematograph</td>\n",
              "      <td>fior as</td>\n",
              "    </tr>\n",
              "    <tr>\n",
              "      <th>2</th>\n",
              "      <td>categori genr</td>\n",
              "      <td>fuse</td>\n",
              "      <td>sifi fantasi</td>\n",
              "    </tr>\n",
              "    <tr>\n",
              "      <th>10</th>\n",
              "      <td>distribut by</td>\n",
              "      <td>film pictur</td>\n",
              "      <td>walt disney</td>\n",
              "    </tr>\n",
              "    <tr>\n",
              "      <th>11</th>\n",
              "      <td>approach</td>\n",
              "      <td>employe</td>\n",
              "      <td>vivienn graham former</td>\n",
              "    </tr>\n",
              "    <tr>\n",
              "      <th>12</th>\n",
              "      <td>play</td>\n",
              "      <td>joe older</td>\n",
              "      <td>morton as</td>\n",
              "    </tr>\n",
              "    <tr>\n",
              "      <th>14</th>\n",
              "      <td>treatment</td>\n",
              "      <td>research</td>\n",
              "      <td>discov</td>\n",
              "    </tr>\n",
              "    <tr>\n",
              "      <th>17</th>\n",
              "      <td>stuntman</td>\n",
              "      <td>replac</td>\n",
              "      <td>actor</td>\n",
              "    </tr>\n",
              "    <tr>\n",
              "      <th>18</th>\n",
              "      <td>poster</td>\n",
              "      <td>main releas</td>\n",
              "      <td>onlin</td>\n",
              "    </tr>\n",
              "    <tr>\n",
              "      <th>19</th>\n",
              "      <td>wa</td>\n",
              "      <td>home on june</td>\n",
              "      <td>8th 2018</td>\n",
              "    </tr>\n",
              "  </tbody>\n",
              "</table>\n",
              "</div>\n",
              "      <button class=\"colab-df-convert\" onclick=\"convertToInteractive('df-afc66eef-6bd5-4afb-a250-bada78b4701c')\"\n",
              "              title=\"Convert this dataframe to an interactive table.\"\n",
              "              style=\"display:none;\">\n",
              "        \n",
              "  <svg xmlns=\"http://www.w3.org/2000/svg\" height=\"24px\"viewBox=\"0 0 24 24\"\n",
              "       width=\"24px\">\n",
              "    <path d=\"M0 0h24v24H0V0z\" fill=\"none\"/>\n",
              "    <path d=\"M18.56 5.44l.94 2.06.94-2.06 2.06-.94-2.06-.94-.94-2.06-.94 2.06-2.06.94zm-11 1L8.5 8.5l.94-2.06 2.06-.94-2.06-.94L8.5 2.5l-.94 2.06-2.06.94zm10 10l.94 2.06.94-2.06 2.06-.94-2.06-.94-.94-2.06-.94 2.06-2.06.94z\"/><path d=\"M17.41 7.96l-1.37-1.37c-.4-.4-.92-.59-1.43-.59-.52 0-1.04.2-1.43.59L10.3 9.45l-7.72 7.72c-.78.78-.78 2.05 0 2.83L4 21.41c.39.39.9.59 1.41.59.51 0 1.02-.2 1.41-.59l7.78-7.78 2.81-2.81c.8-.78.8-2.07 0-2.86zM5.41 20L4 18.59l7.72-7.72 1.47 1.35L5.41 20z\"/>\n",
              "  </svg>\n",
              "      </button>\n",
              "      \n",
              "  <style>\n",
              "    .colab-df-container {\n",
              "      display:flex;\n",
              "      flex-wrap:wrap;\n",
              "      gap: 12px;\n",
              "    }\n",
              "\n",
              "    .colab-df-convert {\n",
              "      background-color: #E8F0FE;\n",
              "      border: none;\n",
              "      border-radius: 50%;\n",
              "      cursor: pointer;\n",
              "      display: none;\n",
              "      fill: #1967D2;\n",
              "      height: 32px;\n",
              "      padding: 0 0 0 0;\n",
              "      width: 32px;\n",
              "    }\n",
              "\n",
              "    .colab-df-convert:hover {\n",
              "      background-color: #E2EBFA;\n",
              "      box-shadow: 0px 1px 2px rgba(60, 64, 67, 0.3), 0px 1px 3px 1px rgba(60, 64, 67, 0.15);\n",
              "      fill: #174EA6;\n",
              "    }\n",
              "\n",
              "    [theme=dark] .colab-df-convert {\n",
              "      background-color: #3B4455;\n",
              "      fill: #D2E3FC;\n",
              "    }\n",
              "\n",
              "    [theme=dark] .colab-df-convert:hover {\n",
              "      background-color: #434B5C;\n",
              "      box-shadow: 0px 1px 3px 1px rgba(0, 0, 0, 0.15);\n",
              "      filter: drop-shadow(0px 1px 2px rgba(0, 0, 0, 0.3));\n",
              "      fill: #FFFFFF;\n",
              "    }\n",
              "  </style>\n",
              "\n",
              "      <script>\n",
              "        const buttonEl =\n",
              "          document.querySelector('#df-afc66eef-6bd5-4afb-a250-bada78b4701c button.colab-df-convert');\n",
              "        buttonEl.style.display =\n",
              "          google.colab.kernel.accessAllowed ? 'block' : 'none';\n",
              "\n",
              "        async function convertToInteractive(key) {\n",
              "          const element = document.querySelector('#df-afc66eef-6bd5-4afb-a250-bada78b4701c');\n",
              "          const dataTable =\n",
              "            await google.colab.kernel.invokeFunction('convertToInteractive',\n",
              "                                                     [key], {});\n",
              "          if (!dataTable) return;\n",
              "\n",
              "          const docLinkHtml = 'Like what you see? Visit the ' +\n",
              "            '<a target=\"_blank\" href=https://colab.research.google.com/notebooks/data_table.ipynb>data table notebook</a>'\n",
              "            + ' to learn more about interactive tables.';\n",
              "          element.innerHTML = '';\n",
              "          dataTable['output_type'] = 'display_data';\n",
              "          await google.colab.output.renderOutput(dataTable, element);\n",
              "          const docLink = document.createElement('div');\n",
              "          docLink.innerHTML = docLinkHtml;\n",
              "          element.appendChild(docLink);\n",
              "        }\n",
              "      </script>\n",
              "    </div>\n",
              "  </div>\n",
              "  "
            ]
          },
          "metadata": {},
          "execution_count": 56
        }
      ]
    },
    {
      "cell_type": "code",
      "source": [
        "abs_1_pred_kg.shape"
      ],
      "metadata": {
        "colab": {
          "base_uri": "https://localhost:8080/"
        },
        "outputId": "26639db9-dffd-497b-93e9-ac7e6b973b38",
        "id": "PDCtsL9hAhPO"
      },
      "execution_count": null,
      "outputs": [
        {
          "output_type": "execute_result",
          "data": {
            "text/plain": [
              "(60, 3)"
            ]
          },
          "metadata": {},
          "execution_count": 57
        }
      ]
    },
    {
      "cell_type": "code",
      "execution_count": null,
      "metadata": {
        "id": "t7dkCEyqAhPO"
      },
      "outputs": [],
      "source": [
        "#calculate percentage of matches over data dataframe size\n",
        "percentage_of_matches = (abs_1_pred_kg.shape[0]/len(abs_1_org_kg))*100"
      ]
    },
    {
      "cell_type": "code",
      "source": [
        "print(\"Accuracy is: \" + str(percentage_of_matches))"
      ],
      "metadata": {
        "colab": {
          "base_uri": "https://localhost:8080/"
        },
        "outputId": "e6d5293d-8123-4dfe-8d2c-db375024682a",
        "id": "JooIXCUNAhPP"
      },
      "execution_count": null,
      "outputs": [
        {
          "output_type": "stream",
          "name": "stdout",
          "text": [
            "Accuracy is: 57.692307692307686\n"
          ]
        }
      ]
    },
    {
      "cell_type": "markdown",
      "source": [
        "## Calculating Classification Report"
      ],
      "metadata": {
        "id": "L_MQX8gN9fnb"
      }
    },
    {
      "cell_type": "code",
      "source": [
        "X_test_1_df = pd.read_csv('Model_7_Pred_Abs_2.csv')"
      ],
      "metadata": {
        "id": "Nwz52znw9lAj"
      },
      "execution_count": null,
      "outputs": []
    },
    {
      "cell_type": "code",
      "source": [
        "from sklearn.metrics import classification_report\n",
        "report = classification_report(X_test_1_df[\"Tag\"], X_test_1_df[\"Pred\"], zero_division=1)\n",
        "print(report)"
      ],
      "metadata": {
        "id": "U12Gh6wrX8uC",
        "colab": {
          "base_uri": "https://localhost:8080/"
        },
        "outputId": "78efadff-4822-48eb-e2b6-b45c2085c889"
      },
      "execution_count": null,
      "outputs": [
        {
          "output_type": "stream",
          "name": "stdout",
          "text": [
            "              precision    recall  f1-score   support\n",
            "\n",
            "       e-1-b       0.86      0.64      0.73       103\n",
            "       e-1-i       0.20      0.45      0.28        73\n",
            "       e-2-b       0.40      0.20      0.26       106\n",
            "       e-2-i       0.50      0.40      0.44        78\n",
            "           o       0.10      0.42      0.17        45\n",
            "         r-b       0.24      0.08      0.13       106\n",
            "         r-i       1.00      0.02      0.03        65\n",
            "\n",
            "    accuracy                           0.31       576\n",
            "   macro avg       0.47      0.32      0.29       576\n",
            "weighted avg       0.49      0.31      0.31       576\n",
            "\n"
          ]
        }
      ]
    },
    {
      "cell_type": "code",
      "source": [
        "from sklearn.metrics import confusion_matrix\n",
        "\n",
        "#Generate the confusion matrix\n",
        "cf_matrix = confusion_matrix(X_test_1_df[\"Tag\"], X_test_1_df[\"Pred\"])\n",
        "print(cf_matrix)"
      ],
      "metadata": {
        "colab": {
          "base_uri": "https://localhost:8080/"
        },
        "id": "KSMGnyix-lnF",
        "outputId": "89f2453a-e5d6-420c-bfb2-5ab0f5aa9aed"
      },
      "execution_count": null,
      "outputs": [
        {
          "output_type": "stream",
          "name": "stdout",
          "text": [
            "[[66  2  0  0 35  0  0]\n",
            " [ 6 33  2  1 28  3  0]\n",
            " [ 0 29 21 17 26 13  0]\n",
            " [ 0 11 14 31 18  4  0]\n",
            " [ 1 17  3  3 19  2  0]\n",
            " [ 4 48  5  3 37  9  0]\n",
            " [ 0 23  8  7 20  6  1]]\n"
          ]
        }
      ]
    },
    {
      "cell_type": "code",
      "source": [
        "tags = np.unique(X_test_1_df[\"Tag\"]).tolist()\n",
        "print(tags)"
      ],
      "metadata": {
        "colab": {
          "base_uri": "https://localhost:8080/"
        },
        "id": "XFTmiZR7A7Ng",
        "outputId": "fa7889c5-c1bc-457d-da41-47746adaead5"
      },
      "execution_count": null,
      "outputs": [
        {
          "output_type": "stream",
          "name": "stdout",
          "text": [
            "['e-1-b', 'e-1-i', 'e-2-b', 'e-2-i', 'o', 'r-b', 'r-i']\n"
          ]
        }
      ]
    },
    {
      "cell_type": "code",
      "source": [
        "import seaborn as sns\n",
        "import matplotlib.pyplot as plt\n",
        "\n",
        "group_counts = [\"{0:0.0f}\".format(value) for value in cf_matrix.flatten()]\n",
        "\n",
        "group_percentages = [\"{0:.2%}\".format(value) for value in cf_matrix.flatten()/np.sum(cf_matrix)]\n",
        "\n",
        "labels = [f\"{v1}\\n{v2}\\n\" for v1, v2 in zip(group_counts,group_percentages)]\n",
        "\n",
        "labels = np.asarray(labels).reshape(cf_matrix.shape[0],cf_matrix.shape[0])\n",
        "\n",
        "ax = sns.heatmap(cf_matrix, annot=labels, fmt='', cmap='Blues')\n",
        "ax.set_title('Seaborn Confusion Matrix with labels\\n\\n');\n",
        "ax.set_xlabel('\\nPredicted Flower Category')\n",
        "ax.set_ylabel('Actual Flower Category ');\n",
        "## Ticket labels - List must be in alphabetical order\n",
        "ax.xaxis.set_ticklabels(tags)\n",
        "ax.yaxis.set_ticklabels(tags)\n",
        "## Display the visualization of the Confusion Matrix.\n",
        "plt.show()"
      ],
      "metadata": {
        "colab": {
          "base_uri": "https://localhost:8080/",
          "height": 337
        },
        "id": "l7VSCG0uAKT4",
        "outputId": "f1acd37b-ee1e-42a4-f525-776cd5b72e36"
      },
      "execution_count": null,
      "outputs": [
        {
          "output_type": "display_data",
          "data": {
            "text/plain": [
              "<Figure size 432x288 with 2 Axes>"
            ],
            "image/png": "[encoded data removed]"
          },
          "metadata": {
            "needs_background": "light"
          }
        }
      ]
    },
    {
      "cell_type": "markdown",
      "source": [
        "## Plotting ROC and AUC"
      ],
      "metadata": {
        "id": "hIOn87lmEqXv"
      }
    },
    {
      "cell_type": "code",
      "source": [
        "df_test_1 = pd.read_csv('Model_5_Pred_Abs_1.csv')\n",
        "df_test_2 = pd.read_csv('Model_5_Pred_Abs_2.csv')\n",
        "df_test_3 = pd.read_csv('Model_6_Pred_Abs_1.csv')\n",
        "df_test_4 = pd.read_csv('Model_6_Pred_Abs_2.csv')\n",
        "df_test_5 = pd.read_csv('Model_7_Pred_Abs_1.csv')\n",
        "df_test_6 = pd.read_csv('Model_7_Pred_Abs_2.csv')"
      ],
      "metadata": {
        "id": "R_ZoMm__EuQe"
      },
      "execution_count": null,
      "outputs": []
    },
    {
      "cell_type": "code",
      "source": [
        "from sklearn import metrics\n",
        "from sklearn.metrics import roc_curve, auc, roc_auc_score\n",
        "from sklearn.preprocessing import label_binarize\n",
        "from itertools import cycle\n",
        "import plotly.graph_objects as go\n",
        "import plotly.express as px\n",
        "\n",
        "\n",
        "y_test = df_test_6[\"Tag\"]\n",
        "y_score = df_test_6[\"Pred\"]\n",
        "\n",
        "# One hot encode the labels in order to plot them\n",
        "y_onehot = pd.get_dummies(y_test, columns=np.unique(y_test).tolist())\n",
        "y_score_onehot = pd.get_dummies(y_score, columns=np.unique(y_score).tolist())\n",
        "# Create an empty figure, and iteratively add new lines\n",
        "# every time we compute a new class\n",
        "fig = go.Figure()\n",
        "fig.add_shape(\n",
        "    type='line', line=dict(dash='dash'),\n",
        "    x0=0, x1=1, y0=0, y1=1\n",
        ")\n",
        "\n",
        "for i in range(y_score_onehot.shape[1]):\n",
        "    try:\n",
        "      y_true = y_onehot.iloc[:, i]\n",
        "      y_score = y_score_onehot.iloc[:, i]\n",
        "\n",
        "      fpr, tpr, _ = roc_curve(y_true, y_score)\n",
        "      auc_score = roc_auc_score(y_true, y_score)\n",
        "\n",
        "      name = f\"{y_onehot.columns[i]} (AUC={auc_score:.2f})\"\n",
        "      fig.add_trace(go.Scatter(x=fpr, y=tpr, name=name, mode='lines'))\n",
        "    except:\n",
        "      print()\n",
        "fig.update_layout(\n",
        "    xaxis_title='False Positive Rate',\n",
        "    yaxis_title='True Positive Rate',\n",
        "    yaxis=dict(scaleanchor=\"x\", scaleratio=1),\n",
        "    xaxis=dict(constrain='domain'),\n",
        "    width=700, height=500\n",
        ")\n",
        "fig.show()\n"
      ],
      "metadata": {
        "colab": {
          "base_uri": "https://localhost:8080/",
          "height": 517
        },
        "id": "ib42tZkZAYWh",
        "outputId": "b93d22ea-8f8a-4691-a1ce-b74b12680429"
      },
      "execution_count": null,
      "outputs": [
        {
          "output_type": "display_data",
          "data": {
            "text/html": [
              "<html>\n",
              "<head><meta charset=\"utf-8\" /></head>\n",
              "<body>\n",
              "    <div>            <script src=\"https://cdnjs.cloudflare.com/ajax/libs/mathjax/2.7.5/MathJax.js?config=TeX-AMS-MML_SVG\"></script><script type=\"text/javascript\">if (window.MathJax) {MathJax.Hub.Config({SVG: {font: \"STIX-Web\"}});}</script>                <script type=\"text/javascript\">window.PlotlyConfig = {MathJaxConfig: 'local'};</script>\n",
              "        <script src=\"https://cdn.plot.ly/plotly-2.8.3.min.js\"></script>                <div id=\"9b78eaaf-e306-4333-9dc6-1aed94491a68\" class=\"plotly-graph-div\" style=\"height:500px; width:700px;\"></div>            <script type=\"text/javascript\">                                    window.PLOTLYENV=window.PLOTLYENV || {};                                    if (document.getElementById(\"9b78eaaf-e306-4333-9dc6-1aed94491a68\")) {                    Plotly.newPlot(                        \"9b78eaaf-e306-4333-9dc6-1aed94491a68\",                        [{\"mode\":\"lines\",\"name\":\"e-1-b (AUC=0.81)\",\"x\":[0.0,0.023255813953488372,1.0],\"y\":[0.0,0.6407766990291263,1.0],\"type\":\"scatter\"},{\"mode\":\"lines\",\"name\":\"e-1-i (AUC=0.60)\",\"x\":[0.0,0.2584493041749503,1.0],\"y\":[0.0,0.4520547945205479,1.0],\"type\":\"scatter\"},{\"mode\":\"lines\",\"name\":\"e-2-b (AUC=0.57)\",\"x\":[0.0,0.06808510638297872,1.0],\"y\":[0.0,0.19811320754716982,1.0],\"type\":\"scatter\"},{\"mode\":\"lines\",\"name\":\"e-2-i (AUC=0.67)\",\"x\":[0.0,0.06224899598393574,1.0],\"y\":[0.0,0.3974358974358974,1.0],\"type\":\"scatter\"},{\"mode\":\"lines\",\"name\":\"o (AUC=0.56)\",\"x\":[0.0,0.3088512241054614,1.0],\"y\":[0.0,0.4222222222222222,1.0],\"type\":\"scatter\"},{\"mode\":\"lines\",\"name\":\"r-b (AUC=0.51)\",\"x\":[0.0,0.059574468085106386,1.0],\"y\":[0.0,0.08490566037735849,1.0],\"type\":\"scatter\"},{\"mode\":\"lines\",\"name\":\"r-i (AUC=0.51)\",\"x\":[0.0,0.0,1.0],\"y\":[0.0,0.015384615384615385,1.0],\"type\":\"scatter\"}],                        {\"template\":{\"data\":{\"bar\":[{\"error_x\":{\"color\":\"#2a3f5f\"},\"error_y\":{\"color\":\"#2a3f5f\"},\"marker\":{\"line\":{\"color\":\"#E5ECF6\",\"width\":0.5},\"pattern\":{\"fillmode\":\"overlay\",\"size\":10,\"solidity\":0.2}},\"type\":\"bar\"}],\"barpolar\":[{\"marker\":{\"line\":{\"color\":\"#E5ECF6\",\"width\":0.5},\"pattern\":{\"fillmode\":\"overlay\",\"size\":10,\"solidity\":0.2}},\"type\":\"barpolar\"}],\"carpet\":[{\"aaxis\":{\"endlinecolor\":\"#2a3f5f\",\"gridcolor\":\"white\",\"linecolor\":\"white\",\"minorgridcolor\":\"white\",\"startlinecolor\":\"#2a3f5f\"},\"baxis\":{\"endlinecolor\":\"#2a3f5f\",\"gridcolor\":\"white\",\"linecolor\":\"white\",\"minorgridcolor\":\"white\",\"startlinecolor\":\"#2a3f5f\"},\"type\":\"carpet\"}],\"choropleth\":[{\"colorbar\":{\"outlinewidth\":0,\"ticks\":\"\"},\"type\":\"choropleth\"}],\"contour\":[{\"colorbar\":{\"outlinewidth\":0,\"ticks\":\"\"},\"colorscale\":[[0.0,\"#0d0887\"],[0.1111111111111111,\"#46039f\"],[0.2222222222222222,\"#7201a8\"],[0.3333333333333333,\"#9c179e\"],[0.4444444444444444,\"#bd3786\"],[0.5555555555555556,\"#d8576b\"],[0.6666666666666666,\"#ed7953\"],[0.7777777777777778,\"#fb9f3a\"],[0.8888888888888888,\"#fdca26\"],[1.0,\"#f0f921\"]],\"type\":\"contour\"}],\"contourcarpet\":[{\"colorbar\":{\"outlinewidth\":0,\"ticks\":\"\"},\"type\":\"contourcarpet\"}],\"heatmap\":[{\"colorbar\":{\"outlinewidth\":0,\"ticks\":\"\"},\"colorscale\":[[0.0,\"#0d0887\"],[0.1111111111111111,\"#46039f\"],[0.2222222222222222,\"#7201a8\"],[0.3333333333333333,\"#9c179e\"],[0.4444444444444444,\"#bd3786\"],[0.5555555555555556,\"#d8576b\"],[0.6666666666666666,\"#ed7953\"],[0.7777777777777778,\"#fb9f3a\"],[0.8888888888888888,\"#fdca26\"],[1.0,\"#f0f921\"]],\"type\":\"heatmap\"}],\"heatmapgl\":[{\"colorbar\":{\"outlinewidth\":0,\"ticks\":\"\"},\"colorscale\":[[0.0,\"#0d0887\"],[0.1111111111111111,\"#46039f\"],[0.2222222222222222,\"#7201a8\"],[0.3333333333333333,\"#9c179e\"],[0.4444444444444444,\"#bd3786\"],[0.5555555555555556,\"#d8576b\"],[0.6666666666666666,\"#ed7953\"],[0.7777777777777778,\"#fb9f3a\"],[0.8888888888888888,\"#fdca26\"],[1.0,\"#f0f921\"]],\"type\":\"heatmapgl\"}],\"histogram\":[{\"marker\":{\"pattern\":{\"fillmode\":\"overlay\",\"size\":10,\"solidity\":0.2}},\"type\":\"histogram\"}],\"histogram2d\":[{\"colorbar\":{\"outlinewidth\":0,\"ticks\":\"\"},\"colorscale\":[[0.0,\"#0d0887\"],[0.1111111111111111,\"#46039f\"],[0.2222222222222222,\"#7201a8\"],[0.3333333333333333,\"#9c179e\"],[0.4444444444444444,\"#bd3786\"],[0.5555555555555556,\"#d8576b\"],[0.6666666666666666,\"#ed7953\"],[0.7777777777777778,\"#fb9f3a\"],[0.8888888888888888,\"#fdca26\"],[1.0,\"#f0f921\"]],\"type\":\"histogram2d\"}],\"histogram2dcontour\":[{\"colorbar\":{\"outlinewidth\":0,\"ticks\":\"\"},\"colorscale\":[[0.0,\"#0d0887\"],[0.1111111111111111,\"#46039f\"],[0.2222222222222222,\"#7201a8\"],[0.3333333333333333,\"#9c179e\"],[0.4444444444444444,\"#bd3786\"],[0.5555555555555556,\"#d8576b\"],[0.6666666666666666,\"#ed7953\"],[0.7777777777777778,\"#fb9f3a\"],[0.8888888888888888,\"#fdca26\"],[1.0,\"#f0f921\"]],\"type\":\"histogram2dcontour\"}],\"mesh3d\":[{\"colorbar\":{\"outlinewidth\":0,\"ticks\":\"\"},\"type\":\"mesh3d\"}],\"parcoords\":[{\"line\":{\"colorbar\":{\"outlinewidth\":0,\"ticks\":\"\"}},\"type\":\"parcoords\"}],\"pie\":[{\"automargin\":true,\"type\":\"pie\"}],\"scatter\":[{\"marker\":{\"colorbar\":{\"outlinewidth\":0,\"ticks\":\"\"}},\"type\":\"scatter\"}],\"scatter3d\":[{\"line\":{\"colorbar\":{\"outlinewidth\":0,\"ticks\":\"\"}},\"marker\":{\"colorbar\":{\"outlinewidth\":0,\"ticks\":\"\"}},\"type\":\"scatter3d\"}],\"scattercarpet\":[{\"marker\":{\"colorbar\":{\"outlinewidth\":0,\"ticks\":\"\"}},\"type\":\"scattercarpet\"}],\"scattergeo\":[{\"marker\":{\"colorbar\":{\"outlinewidth\":0,\"ticks\":\"\"}},\"type\":\"scattergeo\"}],\"scattergl\":[{\"marker\":{\"colorbar\":{\"outlinewidth\":0,\"ticks\":\"\"}},\"type\":\"scattergl\"}],\"scattermapbox\":[{\"marker\":{\"colorbar\":{\"outlinewidth\":0,\"ticks\":\"\"}},\"type\":\"scattermapbox\"}],\"scatterpolar\":[{\"marker\":{\"colorbar\":{\"outlinewidth\":0,\"ticks\":\"\"}},\"type\":\"scatterpolar\"}],\"scatterpolargl\":[{\"marker\":{\"colorbar\":{\"outlinewidth\":0,\"ticks\":\"\"}},\"type\":\"scatterpolargl\"}],\"scatterternary\":[{\"marker\":{\"colorbar\":{\"outlinewidth\":0,\"ticks\":\"\"}},\"type\":\"scatterternary\"}],\"surface\":[{\"colorbar\":{\"outlinewidth\":0,\"ticks\":\"\"},\"colorscale\":[[0.0,\"#0d0887\"],[0.1111111111111111,\"#46039f\"],[0.2222222222222222,\"#7201a8\"],[0.3333333333333333,\"#9c179e\"],[0.4444444444444444,\"#bd3786\"],[0.5555555555555556,\"#d8576b\"],[0.6666666666666666,\"#ed7953\"],[0.7777777777777778,\"#fb9f3a\"],[0.8888888888888888,\"#fdca26\"],[1.0,\"#f0f921\"]],\"type\":\"surface\"}],\"table\":[{\"cells\":{\"fill\":{\"color\":\"#EBF0F8\"},\"line\":{\"color\":\"white\"}},\"header\":{\"fill\":{\"color\":\"#C8D4E3\"},\"line\":{\"color\":\"white\"}},\"type\":\"table\"}]},\"layout\":{\"annotationdefaults\":{\"arrowcolor\":\"#2a3f5f\",\"arrowhead\":0,\"arrowwidth\":1},\"autotypenumbers\":\"strict\",\"coloraxis\":{\"colorbar\":{\"outlinewidth\":0,\"ticks\":\"\"}},\"colorscale\":{\"diverging\":[[0,\"#8e0152\"],[0.1,\"#c51b7d\"],[0.2,\"#de77ae\"],[0.3,\"#f1b6da\"],[0.4,\"#fde0ef\"],[0.5,\"#f7f7f7\"],[0.6,\"#e6f5d0\"],[0.7,\"#b8e186\"],[0.8,\"#7fbc41\"],[0.9,\"#4d9221\"],[1,\"#276419\"]],\"sequential\":[[0.0,\"#0d0887\"],[0.1111111111111111,\"#46039f\"],[0.2222222222222222,\"#7201a8\"],[0.3333333333333333,\"#9c179e\"],[0.4444444444444444,\"#bd3786\"],[0.5555555555555556,\"#d8576b\"],[0.6666666666666666,\"#ed7953\"],[0.7777777777777778,\"#fb9f3a\"],[0.8888888888888888,\"#fdca26\"],[1.0,\"#f0f921\"]],\"sequentialminus\":[[0.0,\"#0d0887\"],[0.1111111111111111,\"#46039f\"],[0.2222222222222222,\"#7201a8\"],[0.3333333333333333,\"#9c179e\"],[0.4444444444444444,\"#bd3786\"],[0.5555555555555556,\"#d8576b\"],[0.6666666666666666,\"#ed7953\"],[0.7777777777777778,\"#fb9f3a\"],[0.8888888888888888,\"#fdca26\"],[1.0,\"#f0f921\"]]},\"colorway\":[\"#636efa\",\"#EF553B\",\"#00cc96\",\"#ab63fa\",\"#FFA15A\",\"#19d3f3\",\"#FF6692\",\"#B6E880\",\"#FF97FF\",\"#FECB52\"],\"font\":{\"color\":\"#2a3f5f\"},\"geo\":{\"bgcolor\":\"white\",\"lakecolor\":\"white\",\"landcolor\":\"#E5ECF6\",\"showlakes\":true,\"showland\":true,\"subunitcolor\":\"white\"},\"hoverlabel\":{\"align\":\"left\"},\"hovermode\":\"closest\",\"mapbox\":{\"style\":\"light\"},\"paper_bgcolor\":\"white\",\"plot_bgcolor\":\"#E5ECF6\",\"polar\":{\"angularaxis\":{\"gridcolor\":\"white\",\"linecolor\":\"white\",\"ticks\":\"\"},\"bgcolor\":\"#E5ECF6\",\"radialaxis\":{\"gridcolor\":\"white\",\"linecolor\":\"white\",\"ticks\":\"\"}},\"scene\":{\"xaxis\":{\"backgroundcolor\":\"#E5ECF6\",\"gridcolor\":\"white\",\"gridwidth\":2,\"linecolor\":\"white\",\"showbackground\":true,\"ticks\":\"\",\"zerolinecolor\":\"white\"},\"yaxis\":{\"backgroundcolor\":\"#E5ECF6\",\"gridcolor\":\"white\",\"gridwidth\":2,\"linecolor\":\"white\",\"showbackground\":true,\"ticks\":\"\",\"zerolinecolor\":\"white\"},\"zaxis\":{\"backgroundcolor\":\"#E5ECF6\",\"gridcolor\":\"white\",\"gridwidth\":2,\"linecolor\":\"white\",\"showbackground\":true,\"ticks\":\"\",\"zerolinecolor\":\"white\"}},\"shapedefaults\":{\"line\":{\"color\":\"#2a3f5f\"}},\"ternary\":{\"aaxis\":{\"gridcolor\":\"white\",\"linecolor\":\"white\",\"ticks\":\"\"},\"baxis\":{\"gridcolor\":\"white\",\"linecolor\":\"white\",\"ticks\":\"\"},\"bgcolor\":\"#E5ECF6\",\"caxis\":{\"gridcolor\":\"white\",\"linecolor\":\"white\",\"ticks\":\"\"}},\"title\":{\"x\":0.05},\"xaxis\":{\"automargin\":true,\"gridcolor\":\"white\",\"linecolor\":\"white\",\"ticks\":\"\",\"title\":{\"standoff\":15},\"zerolinecolor\":\"white\",\"zerolinewidth\":2},\"yaxis\":{\"automargin\":true,\"gridcolor\":\"white\",\"linecolor\":\"white\",\"ticks\":\"\",\"title\":{\"standoff\":15},\"zerolinecolor\":\"white\",\"zerolinewidth\":2}}},\"shapes\":[{\"line\":{\"dash\":\"dash\"},\"type\":\"line\",\"x0\":0,\"x1\":1,\"y0\":0,\"y1\":1}],\"yaxis\":{\"title\":{\"text\":\"True Positive Rate\"},\"scaleanchor\":\"x\",\"scaleratio\":1},\"xaxis\":{\"title\":{\"text\":\"False Positive Rate\"},\"constrain\":\"domain\"},\"width\":700,\"height\":500},                        {\"responsive\": true}                    ).then(function(){\n",
              "                            \n",
              "var gd = document.getElementById('9b78eaaf-e306-4333-9dc6-1aed94491a68');\n",
              "var x = new MutationObserver(function (mutations, observer) {{\n",
              "        var display = window.getComputedStyle(gd).display;\n",
              "        if (!display || display === 'none') {{\n",
              "            console.log([gd, 'removed!']);\n",
              "            Plotly.purge(gd);\n",
              "            observer.disconnect();\n",
              "        }}\n",
              "}});\n",
              "\n",
              "// Listen for the removal of the full notebook cells\n",
              "var notebookContainer = gd.closest('#notebook-container');\n",
              "if (notebookContainer) {{\n",
              "    x.observe(notebookContainer, {childList: true});\n",
              "}}\n",
              "\n",
              "// Listen for the clearing of the current output cell\n",
              "var outputEl = gd.closest('.output');\n",
              "if (outputEl) {{\n",
              "    x.observe(outputEl, {childList: true});\n",
              "}}\n",
              "\n",
              "                        })                };                            </script>        </div>\n",
              "</body>\n",
              "</html>"
            ]
          },
          "metadata": {}
        }
      ]
    },
    {
      "cell_type": "code",
      "source": [
        ""
      ],
      "metadata": {
        "id": "ro_Jl6nTFQRU"
      },
      "execution_count": null,
      "outputs": []
    },
    {
      "cell_type": "markdown",
      "source": [
        "## Refrences:\n",
        "1.\thttps://www.sciencedirect.com/topics/computer-science/recurrent-neural-network#:~:text=A%20recurrent%20neural%20network%20(RNN)%20is%20a%20special%20kind%20of,next%20word%20of%20a%20sentence.\n",
        "2.\tKnowledge Graph & NLP Tutorial-(BERT,spaCy,NLTK) | Kaggle\n",
        "3.\tnamed-entity-recognition-template/ner.ipynb at master · floydhub/named-entity-recognition-template · GitHub\n",
        "4.\tGitHub - BeiqiZh/Named-Entity-Recognition: Named Entity Recognition (NER) using LSTMs with Keras\n",
        "5.\ttensorflow - why set return_sequences=True and stateful=True for tf.keras.layers.LSTM? - Stack Overflow\n",
        "6.\tText classification with an RNN  |  TensorFlow\n",
        "7.\thttps://www.coursera.org/lecture/machine-learning/diagnosing-bias-vs-variance-yCAup\n",
        "8.\thttps://github.com/gabrielStanovsky/supervised-oie\n",
        "9.\tWhat is a Knowledge Graph? | IBM \n",
        "10.\thttps://www.tensorflow.org/api_docs/python/tf/keras/layers/LSTM\n",
        "11.\thttps://nlp.stanford.edu/projects/glove/\n"
      ],
      "metadata": {
        "id": "LRRvNQsonSj0"
      }
    },
    {
      "cell_type": "code",
      "source": [
        ""
      ],
      "metadata": {
        "id": "-9CcO1OLnXKq"
      },
      "execution_count": null,
      "outputs": []
    }
  ]
}